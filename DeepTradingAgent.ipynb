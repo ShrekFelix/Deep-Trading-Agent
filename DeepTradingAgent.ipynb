{
 "cells": [
  {
   "cell_type": "code",
   "execution_count": 1,
   "metadata": {
    "colab": {},
    "colab_type": "code",
    "id": "2sNvsc8OaKc-"
   },
   "outputs": [],
   "source": [
    "%matplotlib inline\n",
    "import tensorflow as tf\n",
    "import matplotlib.pyplot as plt\n",
    "import pandas as pd\n",
    "import numpy as np\n",
    "import random\n",
    "import os\n",
    "import math\n",
    "from collections import deque"
   ]
  },
  {
   "cell_type": "code",
   "execution_count": 73,
   "metadata": {
    "colab": {
     "base_uri": "https://localhost:8080/",
     "height": 195
    },
    "colab_type": "code",
    "executionInfo": {
     "elapsed": 6156,
     "status": "ok",
     "timestamp": 1544064164683,
     "user": {
      "displayName": "Deng Alan",
      "photoUrl": "https://lh5.googleusercontent.com/-IsleClY8X1k/AAAAAAAAAAI/AAAAAAAAAAc/bcORjUVrac0/s64/photo.jpg",
      "userId": "08415721991701907354"
     },
     "user_tz": 300
    },
    "id": "2RwoFIb_dbIF",
    "outputId": "e586f022-99ff-4dfb-ba66-bab98fbd3917"
   },
   "outputs": [
    {
     "data": {
      "text/html": [
       "<div>\n",
       "<style scoped>\n",
       "    .dataframe tbody tr th:only-of-type {\n",
       "        vertical-align: middle;\n",
       "    }\n",
       "\n",
       "    .dataframe tbody tr th {\n",
       "        vertical-align: top;\n",
       "    }\n",
       "\n",
       "    .dataframe thead th {\n",
       "        text-align: right;\n",
       "    }\n",
       "</style>\n",
       "<table border=\"1\" class=\"dataframe\">\n",
       "  <thead>\n",
       "    <tr style=\"text-align: right;\">\n",
       "      <th></th>\n",
       "      <th>Open</th>\n",
       "      <th>High</th>\n",
       "      <th>Low</th>\n",
       "      <th>Close</th>\n",
       "      <th>Volume_(BTC)</th>\n",
       "      <th>Volume_(Currency)</th>\n",
       "      <th>Weighted_Price</th>\n",
       "    </tr>\n",
       "  </thead>\n",
       "  <tbody>\n",
       "    <tr>\n",
       "      <th>2500000</th>\n",
       "      <td>609.87</td>\n",
       "      <td>609.87</td>\n",
       "      <td>609.41</td>\n",
       "      <td>609.41</td>\n",
       "      <td>4.200000</td>\n",
       "      <td>2560.068344</td>\n",
       "      <td>609.540082</td>\n",
       "    </tr>\n",
       "    <tr>\n",
       "      <th>2500001</th>\n",
       "      <td>609.87</td>\n",
       "      <td>609.87</td>\n",
       "      <td>609.41</td>\n",
       "      <td>609.41</td>\n",
       "      <td>4.200000</td>\n",
       "      <td>2560.068344</td>\n",
       "      <td>609.540082</td>\n",
       "    </tr>\n",
       "    <tr>\n",
       "      <th>2500002</th>\n",
       "      <td>609.87</td>\n",
       "      <td>609.87</td>\n",
       "      <td>609.41</td>\n",
       "      <td>609.41</td>\n",
       "      <td>4.200000</td>\n",
       "      <td>2560.068344</td>\n",
       "      <td>609.540082</td>\n",
       "    </tr>\n",
       "    <tr>\n",
       "      <th>2500003</th>\n",
       "      <td>610.97</td>\n",
       "      <td>610.97</td>\n",
       "      <td>610.97</td>\n",
       "      <td>610.97</td>\n",
       "      <td>0.018135</td>\n",
       "      <td>11.080002</td>\n",
       "      <td>610.970000</td>\n",
       "    </tr>\n",
       "    <tr>\n",
       "      <th>2500004</th>\n",
       "      <td>610.97</td>\n",
       "      <td>610.97</td>\n",
       "      <td>610.97</td>\n",
       "      <td>610.97</td>\n",
       "      <td>0.018135</td>\n",
       "      <td>11.080002</td>\n",
       "      <td>610.970000</td>\n",
       "    </tr>\n",
       "  </tbody>\n",
       "</table>\n",
       "</div>"
      ],
      "text/plain": [
       "           Open    High     Low   Close  Volume_(BTC)  Volume_(Currency)  \\\n",
       "2500000  609.87  609.87  609.41  609.41      4.200000        2560.068344   \n",
       "2500001  609.87  609.87  609.41  609.41      4.200000        2560.068344   \n",
       "2500002  609.87  609.87  609.41  609.41      4.200000        2560.068344   \n",
       "2500003  610.97  610.97  610.97  610.97      0.018135          11.080002   \n",
       "2500004  610.97  610.97  610.97  610.97      0.018135          11.080002   \n",
       "\n",
       "         Weighted_Price  \n",
       "2500000      609.540082  \n",
       "2500001      609.540082  \n",
       "2500002      609.540082  \n",
       "2500003      610.970000  \n",
       "2500004      610.970000  "
      ]
     },
     "execution_count": 73,
     "metadata": {},
     "output_type": "execute_result"
    }
   ],
   "source": [
    "bitstamp = pd.read_csv('bitstampUSD_1-min_data_2012-01-01_to_2018-06-27.csv')\n",
    "bitstamp.drop(labels='Timestamp', axis=1, inplace=True)\n",
    "bitstamp = bitstamp[2500000:]\n",
    "bitstamp.head()"
   ]
  },
  {
   "cell_type": "code",
   "execution_count": 74,
   "metadata": {
    "colab": {},
    "colab_type": "code",
    "id": "q_RoSGgXlFZt"
   },
   "outputs": [],
   "source": [
    "bitstamp = np.array(bitstamp)"
   ]
  },
  {
   "cell_type": "code",
   "execution_count": 75,
   "metadata": {},
   "outputs": [
    {
     "data": {
      "text/plain": [
       "array([[  6.09870000e+02,   6.09870000e+02,   6.09410000e+02, ...,\n",
       "          4.20000000e+00,   2.56006834e+03,   6.09540082e+02],\n",
       "       [  6.09870000e+02,   6.09870000e+02,   6.09410000e+02, ...,\n",
       "          4.20000000e+00,   2.56006834e+03,   6.09540082e+02],\n",
       "       [  6.09870000e+02,   6.09870000e+02,   6.09410000e+02, ...,\n",
       "          4.20000000e+00,   2.56006834e+03,   6.09540082e+02],\n",
       "       ..., \n",
       "       [  6.07915000e+03,   6.08553000e+03,   6.07010000e+03, ...,\n",
       "          5.17498402e+00,   3.14474231e+04,   6.07681550e+03],\n",
       "       [  6.08221000e+03,   6.08686000e+03,   6.06800000e+03, ...,\n",
       "          1.44823012e+01,   8.80003803e+04,   6.07640864e+03],\n",
       "       [  6.07399000e+03,   6.07541000e+03,   6.06456000e+03, ...,\n",
       "          2.35110041e+01,   1.42706804e+05,   6.06978771e+03]])"
      ]
     },
     "execution_count": 75,
     "metadata": {},
     "output_type": "execute_result"
    }
   ],
   "source": [
    "bitstamp"
   ]
  },
  {
   "cell_type": "code",
   "execution_count": 11,
   "metadata": {},
   "outputs": [],
   "source": [
    "import tensorflow.keras as k"
   ]
  },
  {
   "cell_type": "code",
   "execution_count": 12,
   "metadata": {},
   "outputs": [],
   "source": [
    "from tensorflow.keras.layers import *"
   ]
  },
  {
   "cell_type": "code",
   "execution_count": 9,
   "metadata": {
    "colab": {
     "base_uri": "https://localhost:8080/",
     "height": 34
    },
    "colab_type": "code",
    "executionInfo": {
     "elapsed": 10141,
     "status": "ok",
     "timestamp": 1544064171329,
     "user": {
      "displayName": "Deng Alan",
      "photoUrl": "https://lh5.googleusercontent.com/-IsleClY8X1k/AAAAAAAAAAI/AAAAAAAAAAc/bcORjUVrac0/s64/photo.jpg",
      "userId": "08415721991701907354"
     },
     "user_tz": 300
    },
    "id": "MLMFLYFKkkdk",
    "outputId": "e85bd5f5-37e8-4e41-ede6-f12d9bc25901"
   },
   "outputs": [
    {
     "data": {
      "text/plain": [
       "(1103136, 7)"
      ]
     },
     "execution_count": 9,
     "metadata": {},
     "output_type": "execute_result"
    }
   ],
   "source": [
    "bitstamp.shape"
   ]
  },
  {
   "cell_type": "code",
   "execution_count": 76,
   "metadata": {
    "colab": {},
    "colab_type": "code",
    "id": "k30Y1vjji5Nk",
    "slideshow": {
     "slide_type": "-"
    }
   },
   "outputs": [],
   "source": [
    "class Trader:\n",
    "    def __init__(self, max_turns=60*24*60, fee_rate=.0005):\n",
    "        self.action_space = [i for i in range(17)]\n",
    "        self.max_turns = max_turns\n",
    "        self.fee_rate = fee_rate\n",
    "        self.reset()\n",
    "        \n",
    "    def reset(self):\n",
    "        self.t = 0\n",
    "        self.cash = 100000\n",
    "        self.coins = 0\n",
    "        self.time = random.randrange(60*24*60, len(bitstamp) - 60*24*60)\n",
    "        self.done = False\n",
    "        s = self.t+self.time, self.coins, self.cash\n",
    "        return s\n",
    "\n",
    "    def step(self, action):\n",
    "        if self.t == self.max_turns:\n",
    "            self.done = True\n",
    "        price_open = bitstamp[self.time + self.t][0]\n",
    "        price_close = bitstamp[self.time + self.t + 1][0]\n",
    "        prev_asset = price_open * self.coins + self.cash\n",
    "        percent = action-8\n",
    "        if percent < 0:\n",
    "            coins_sold = self.coins * (-percent) * .1\n",
    "            self.cash += coins_sold * price_open * (1-self.fee_rate)\n",
    "            self.coins -= coins_sold\n",
    "\n",
    "        elif percent > 0:\n",
    "            money_spent = self.cash * percent * .1 \n",
    "            self.coins += money_spent * (1-self.fee_rate) / price_open\n",
    "            self.cash -= money_spent\n",
    "            \n",
    "        r = price_close * self.coins + self.cash - prev_asset\n",
    "        s = self.t+self.time, self.coins, self.cash\n",
    "        self.asset = price_close * self.coins + self.cash\n",
    "        if self.asset < 60000:\n",
    "            self.done = True\n",
    "            \n",
    "        self.t += 1\n",
    "        return s, r, self.done"
   ]
  },
  {
   "cell_type": "code",
   "execution_count": null,
   "metadata": {
    "colab": {
     "base_uri": "https://localhost:8080/",
     "height": 713
    },
    "colab_type": "code",
    "executionInfo": {
     "elapsed": 1376,
     "status": "error",
     "timestamp": 1544064463892,
     "user": {
      "displayName": "Deng Alan",
      "photoUrl": "https://lh5.googleusercontent.com/-IsleClY8X1k/AAAAAAAAAAI/AAAAAAAAAAc/bcORjUVrac0/s64/photo.jpg",
      "userId": "08415721991701907354"
     },
     "user_tz": 300
    },
    "id": "76EzOT_DiAyD",
    "outputId": "f0ec5c3c-1c28-4c93-d764-1205bc003e14"
   },
   "outputs": [
    {
     "name": "stdout",
     "output_type": "stream",
     "text": [
      "Tensor(\"input_1:0\", shape=(?, 302402), dtype=float32)\n",
      "Tensor(\"reshape/Reshape:0\", shape=(?, 43200, 7), dtype=float32) Tensor(\"lambda_1/strided_slice:0\", shape=(?, 2), dtype=float32)\n",
      "Tensor(\"lstm/TensorArrayReadV3:0\", shape=(?, 7), dtype=float32)\n",
      "Tensor(\"dense/BiasAdd:0\", shape=(?, 1), dtype=float32) Tensor(\"lambda_1/strided_slice:0\", shape=(?, 2), dtype=float32)\n",
      "Tensor(\"dense_1/Relu:0\", shape=(?, 17), dtype=float32)\n",
      "__________________________________________________________________________________________________\n",
      "Layer (type)                    Output Shape         Param #     Connected to                     \n",
      "==================================================================================================\n",
      "input_1 (InputLayer)            (None, 302402)       0                                            \n",
      "__________________________________________________________________________________________________\n",
      "lambda (Lambda)                 (None, 302400)       0           input_1[0][0]                    \n",
      "__________________________________________________________________________________________________\n",
      "reshape (Reshape)               (None, 43200, 7)     0           lambda[0][0]                     \n",
      "__________________________________________________________________________________________________\n",
      "lstm (LSTM)                     (None, 7)            420         reshape[0][0]                    \n",
      "__________________________________________________________________________________________________\n",
      "dense (Dense)                   (None, 1)            8           lstm[0][0]                       \n",
      "__________________________________________________________________________________________________\n",
      "lambda_1 (Lambda)               (None, 2)            0           input_1[0][0]                    \n",
      "__________________________________________________________________________________________________\n",
      "concatenate (Concatenate)       (None, 3)            0           dense[0][0]                      \n",
      "                                                                 lambda_1[0][0]                   \n",
      "__________________________________________________________________________________________________\n",
      "dense_1 (Dense)                 (None, 17)           68          concatenate[0][0]                \n",
      "==================================================================================================\n",
      "Total params: 496\n",
      "Trainable params: 496\n",
      "Non-trainable params: 0\n",
      "__________________________________________________________________________________________________\n",
      "None\n",
      "602508 5596 31281.8682334 2.6717839481 59936.7510767\n",
      "[Episode 0] - Mean survival time over last 100 episodes was -40063.24892327833 ticks.\n",
      "replaying\n"
     ]
    },
    {
     "name": "stderr",
     "output_type": "stream",
     "text": [
      "Exception ignored in: <bound method BaseSession._Callable.__del__ of <tensorflow.python.client.session.BaseSession._Callable object at 0x7febac6e8320>>\n",
      "Traceback (most recent call last):\n",
      "  File \"/anaconda3/lib/python3.6/site-packages/tensorflow/python/client/session.py\", line 1455, in __del__\n",
      "    self._session._session, self._handle, status)\n",
      "  File \"/anaconda3/lib/python3.6/site-packages/tensorflow/python/framework/errors_impl.py\", line 528, in __exit__\n",
      "    c_api.TF_GetCode(self.status.status))\n",
      "tensorflow.python.framework.errors_impl.InvalidArgumentError: No such callable handle: 318129824\n"
     ]
    },
    {
     "name": "stdout",
     "output_type": "stream",
     "text": [
      "Epoch 1/1\n",
      "1/1 [==============================] - 41s 41s/step - loss: nan\n",
      "Epoch 1/1\n",
      "1/1 [==============================] - 39s 39s/step - loss: nan\n",
      "Epoch 1/1\n",
      "1/1 [==============================] - 39s 39s/step - loss: nan\n",
      "Epoch 1/1\n",
      "1/1 [==============================] - 39s 39s/step - loss: nan\n",
      "Epoch 1/1\n"
     ]
    }
   ],
   "source": [
    "class DQNTrader():\n",
    "    def __init__(self, n_episodes=100, n_win_ticks=195, \n",
    "                 gamma=.9999, epsilon=1.0, epsilon_min=0.01, epsilon_log_decay=0.995, alpha=0.01, alpha_decay=0.01, \n",
    "                 batch_size=64):\n",
    "        self.env = Trader()\n",
    "        self.memory = deque(maxlen=100000)\n",
    "        self.gamma = gamma\n",
    "        self.epsilon = epsilon\n",
    "        self.epsilon_min = epsilon_min\n",
    "        self.epsilon_decay = epsilon_log_decay\n",
    "        self.alpha = alpha\n",
    "        self.alpha_decay = alpha_decay\n",
    "        self.n_episodes = n_episodes\n",
    "        self.n_win_ticks = n_win_ticks\n",
    "        self.batch_size = batch_size\n",
    "\n",
    "        tf.reset_default_graph()\n",
    "        \n",
    "        inputs = Input(shape=(60*24*30*7+2,))\n",
    "        print(inputs)\n",
    "        t0 = Lambda(lambda i:i[:,:-2])(inputs)\n",
    "        c = Lambda(lambda i:i[:,-2:])(inputs)\n",
    "        #t0, c = inputs[:,:-2], inputs[:,-2:]\n",
    "        t = Reshape((60*24*30,7))(t0)\n",
    "        print(t,c)\n",
    "        lstm = LSTM(7, return_sequences=False)(t)\n",
    "        print(lstm)\n",
    "        h1 = Dense(1)(lstm)\n",
    "        print(h1,c)\n",
    "        outputs = Dense(len(self.env.action_space), 'relu')(k.layers.concatenate([h1, c],1))\n",
    "        print(outputs)\n",
    "        self.model = k.models.Model(inputs=inputs, outputs=outputs)\n",
    "        self.model.compile(optimizer='Adam', loss='mse')                               \n",
    "        print(self.model.summary())\n",
    "                                                            \n",
    "    def choose_action(self, state, epsilon):        \n",
    "        return random.choice(self.env.action_space) if (np.random.random() <= epsilon) else np.argmax(self.sess.run(self.Q, feed_dict={self.state_: my_lstm(state)}))\n",
    "\n",
    "    def get_epsilon(self, t):\n",
    "        return max(self.epsilon_min, min(self.epsilon, 1.0 - math.log10((t + 1) * self.epsilon_decay)))\n",
    "    \n",
    "    def preprocess_state(self,s):\n",
    "        time, coins, cash = s\n",
    "        state = np.append(bitstamp[time-60*24*30 : time].flatten(), [coins, cash]).reshape(-1,60*24*30*7+2) # check\n",
    "        return state\n",
    "    def replay(self, batch_size):\n",
    "        minibatch = random.sample(self.memory, min(len(self.memory), batch_size))\n",
    "        for state, action, reward, next_state, done in minibatch:\n",
    "            state = self.preprocess_state(state)\n",
    "            next_state = self.preprocess_state(next_state)\n",
    "            if done:\n",
    "                target = reward\n",
    "            else:\n",
    "                target = reward + self.gamma * np.max(self.model.predict(next_state)[0])\n",
    "            Q = self.model.predict(state) #gives a batch?\n",
    "            Q[0][action] = target\n",
    "            self.model.fit(state, Q, epochs=1)\n",
    "\n",
    "        if self.epsilon > self.epsilon_min:\n",
    "            self.epsilon *= self.epsilon_decay\n",
    "\n",
    "    def run(self):\n",
    "        scores = deque(maxlen=100)\n",
    "        for e in range(self.n_episodes):\n",
    "            state = self.env.reset()\n",
    "            done = False\n",
    "            rewards = 0\n",
    "            while not done:\n",
    "                action = self.choose_action(state, self.get_epsilon(e))\n",
    "                next_state, reward, done = self.env.step(action)\n",
    "                self.memory.append((state, action, reward, next_state, done))\n",
    "                state = next_state\n",
    "                rewards += reward\n",
    "            \n",
    "            print(self.env.time, self.env.t, self.env.cash, self.env.coins, self.env.asset)\n",
    "            scores.append(rewards)\n",
    "            mean_score = np.mean(scores)\n",
    "            if mean_score >= self.n_win_ticks and e >= 100:\n",
    "                if not self.quiet: print('Ran {} episodes. Solved after {} trials ✔'.format(e, e - 100))\n",
    "                return e - 100\n",
    "            if e % 10 == 0:\n",
    "                print('[Episode {}] - Mean survival time over last 100 episodes was {} ticks.'.format(e, mean_score))\n",
    "            print('replaying')\n",
    "            self.replay(self.batch_size)\n",
    "            print('replayed')\n",
    "        return e\n",
    "\n",
    "agent = DQNTrader()\n",
    "agent.run()"
   ]
  },
  {
   "cell_type": "code",
   "execution_count": null,
   "metadata": {},
   "outputs": [],
   "source": [
    "time=60*24*30\n",
    "np.append(bitstamp[time-60*24*30 : time+1].flatten(), [1, 1]).shape"
   ]
  },
  {
   "cell_type": "code",
   "execution_count": 69,
   "metadata": {},
   "outputs": [
    {
     "data": {
      "text/plain": [
       "(43201, 7)"
      ]
     },
     "execution_count": 69,
     "metadata": {},
     "output_type": "execute_result"
    }
   ],
   "source": [
    "bitstamp[time-60*24*30 : time+1].shape"
   ]
  },
  {
   "cell_type": "code",
   "execution_count": null,
   "metadata": {},
   "outputs": [],
   "source": []
  }
 ],
 "metadata": {
  "accelerator": "GPU",
  "colab": {
   "collapsed_sections": [],
   "name": "“MidtermCode.ipynb”的副本",
   "provenance": [
    {
     "file_id": "https://github.com/ShrekFelix/Deep-Trading-Agent/blob/master/MidtermCode.ipynb",
     "timestamp": 1544059291366
    }
   ],
   "version": "0.3.2"
  },
  "kernelspec": {
   "display_name": "Python 3",
   "language": "python",
   "name": "python3"
  },
  "language_info": {
   "codemirror_mode": {
    "name": "ipython",
    "version": 3
   },
   "file_extension": ".py",
   "mimetype": "text/x-python",
   "name": "python",
   "nbconvert_exporter": "python",
   "pygments_lexer": "ipython3",
   "version": "3.6.0"
  }
 },
 "nbformat": 4,
 "nbformat_minor": 2
}
