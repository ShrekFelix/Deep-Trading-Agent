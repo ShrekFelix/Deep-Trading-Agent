{
 "cells": [
  {
   "cell_type": "code",
   "execution_count": 78,
   "metadata": {
    "colab": {},
    "colab_type": "code",
    "id": "2sNvsc8OaKc-"
   },
   "outputs": [],
   "source": [
    "%matplotlib inline\n",
    "import tensorflow as tf\n",
    "import matplotlib.pyplot as plt\n",
    "import pandas as pd\n",
    "import numpy as np\n",
    "import random\n",
    "import os\n",
    "import math\n",
    "from collections import deque"
   ]
  },
  {
   "cell_type": "code",
   "execution_count": 79,
   "metadata": {
    "colab": {
     "base_uri": "https://localhost:8080/",
     "height": 224
    },
    "colab_type": "code",
    "id": "2RwoFIb_dbIF",
    "outputId": "998734d8-6a8a-499c-e038-c516db1446b5"
   },
   "outputs": [
    {
     "data": {
      "text/html": [
       "<div>\n",
       "<style scoped>\n",
       "    .dataframe tbody tr th:only-of-type {\n",
       "        vertical-align: middle;\n",
       "    }\n",
       "\n",
       "    .dataframe tbody tr th {\n",
       "        vertical-align: top;\n",
       "    }\n",
       "\n",
       "    .dataframe thead th {\n",
       "        text-align: right;\n",
       "    }\n",
       "</style>\n",
       "<table border=\"1\" class=\"dataframe\">\n",
       "  <thead>\n",
       "    <tr style=\"text-align: right;\">\n",
       "      <th></th>\n",
       "      <th>Open</th>\n",
       "      <th>High</th>\n",
       "      <th>Low</th>\n",
       "      <th>Close</th>\n",
       "      <th>Volume_(BTC)</th>\n",
       "      <th>Volume_(Currency)</th>\n",
       "      <th>Weighted_Price</th>\n",
       "    </tr>\n",
       "  </thead>\n",
       "  <tbody>\n",
       "    <tr>\n",
       "      <th>2500000</th>\n",
       "      <td>609.87</td>\n",
       "      <td>609.87</td>\n",
       "      <td>609.41</td>\n",
       "      <td>609.41</td>\n",
       "      <td>4.200000</td>\n",
       "      <td>2560.068344</td>\n",
       "      <td>609.540082</td>\n",
       "    </tr>\n",
       "    <tr>\n",
       "      <th>2500001</th>\n",
       "      <td>609.87</td>\n",
       "      <td>609.87</td>\n",
       "      <td>609.41</td>\n",
       "      <td>609.41</td>\n",
       "      <td>4.200000</td>\n",
       "      <td>2560.068344</td>\n",
       "      <td>609.540082</td>\n",
       "    </tr>\n",
       "    <tr>\n",
       "      <th>2500002</th>\n",
       "      <td>609.87</td>\n",
       "      <td>609.87</td>\n",
       "      <td>609.41</td>\n",
       "      <td>609.41</td>\n",
       "      <td>4.200000</td>\n",
       "      <td>2560.068344</td>\n",
       "      <td>609.540082</td>\n",
       "    </tr>\n",
       "    <tr>\n",
       "      <th>2500003</th>\n",
       "      <td>610.97</td>\n",
       "      <td>610.97</td>\n",
       "      <td>610.97</td>\n",
       "      <td>610.97</td>\n",
       "      <td>0.018135</td>\n",
       "      <td>11.080002</td>\n",
       "      <td>610.970000</td>\n",
       "    </tr>\n",
       "    <tr>\n",
       "      <th>2500004</th>\n",
       "      <td>610.97</td>\n",
       "      <td>610.97</td>\n",
       "      <td>610.97</td>\n",
       "      <td>610.97</td>\n",
       "      <td>0.018135</td>\n",
       "      <td>11.080002</td>\n",
       "      <td>610.970000</td>\n",
       "    </tr>\n",
       "  </tbody>\n",
       "</table>\n",
       "</div>"
      ],
      "text/plain": [
       "           Open    High     Low   Close  Volume_(BTC)  Volume_(Currency)  \\\n",
       "2500000  609.87  609.87  609.41  609.41      4.200000        2560.068344   \n",
       "2500001  609.87  609.87  609.41  609.41      4.200000        2560.068344   \n",
       "2500002  609.87  609.87  609.41  609.41      4.200000        2560.068344   \n",
       "2500003  610.97  610.97  610.97  610.97      0.018135          11.080002   \n",
       "2500004  610.97  610.97  610.97  610.97      0.018135          11.080002   \n",
       "\n",
       "         Weighted_Price  \n",
       "2500000      609.540082  \n",
       "2500001      609.540082  \n",
       "2500002      609.540082  \n",
       "2500003      610.970000  \n",
       "2500004      610.970000  "
      ]
     },
     "execution_count": 79,
     "metadata": {},
     "output_type": "execute_result"
    }
   ],
   "source": [
    "bitstamp = pd.read_csv('bitstampUSD_1-min_data_2012-01-01_to_2018-06-27.csv')\n",
    "bitstamp.drop(labels='Timestamp', axis=1, inplace=True)\n",
    "bitstamp = bitstamp[2500000:]\n",
    "bitstamp.head()"
   ]
  },
  {
   "cell_type": "code",
   "execution_count": 80,
   "metadata": {
    "colab": {},
    "colab_type": "code",
    "id": "q_RoSGgXlFZt"
   },
   "outputs": [],
   "source": [
    "bitstamp = np.array(bitstamp)"
   ]
  },
  {
   "cell_type": "code",
   "execution_count": 81,
   "metadata": {
    "colab": {
     "base_uri": "https://localhost:8080/",
     "height": 238
    },
    "colab_type": "code",
    "id": "fPRPFlmMfVUE",
    "outputId": "b8b88b3c-0381-41c8-b841-52e6234d5fc0"
   },
   "outputs": [
    {
     "data": {
      "text/plain": [
       "array([[  6.09870000e+02,   6.09870000e+02,   6.09410000e+02, ...,\n",
       "          4.20000000e+00,   2.56006834e+03,   6.09540082e+02],\n",
       "       [  6.09870000e+02,   6.09870000e+02,   6.09410000e+02, ...,\n",
       "          4.20000000e+00,   2.56006834e+03,   6.09540082e+02],\n",
       "       [  6.09870000e+02,   6.09870000e+02,   6.09410000e+02, ...,\n",
       "          4.20000000e+00,   2.56006834e+03,   6.09540082e+02],\n",
       "       ..., \n",
       "       [  6.07915000e+03,   6.08553000e+03,   6.07010000e+03, ...,\n",
       "          5.17498402e+00,   3.14474231e+04,   6.07681550e+03],\n",
       "       [  6.08221000e+03,   6.08686000e+03,   6.06800000e+03, ...,\n",
       "          1.44823012e+01,   8.80003803e+04,   6.07640864e+03],\n",
       "       [  6.07399000e+03,   6.07541000e+03,   6.06456000e+03, ...,\n",
       "          2.35110041e+01,   1.42706804e+05,   6.06978771e+03]])"
      ]
     },
     "execution_count": 81,
     "metadata": {},
     "output_type": "execute_result"
    }
   ],
   "source": [
    "bitstamp"
   ]
  },
  {
   "cell_type": "code",
   "execution_count": 82,
   "metadata": {
    "colab": {},
    "colab_type": "code",
    "id": "_ya1v2wWfVUI"
   },
   "outputs": [],
   "source": [
    "import tensorflow.keras as k"
   ]
  },
  {
   "cell_type": "code",
   "execution_count": 83,
   "metadata": {
    "colab": {},
    "colab_type": "code",
    "id": "GCE1QZe8fVUK"
   },
   "outputs": [],
   "source": [
    "from tensorflow.keras.layers import *"
   ]
  },
  {
   "cell_type": "code",
   "execution_count": 97,
   "metadata": {},
   "outputs": [
    {
     "data": {
      "text/plain": [
       "18.0"
      ]
     },
     "execution_count": 97,
     "metadata": {},
     "output_type": "execute_result"
    }
   ],
   "source": [
    "60*24*60/400*5/60"
   ]
  },
  {
   "cell_type": "code",
   "execution_count": 84,
   "metadata": {
    "colab": {
     "base_uri": "https://localhost:8080/",
     "height": 34
    },
    "colab_type": "code",
    "id": "MLMFLYFKkkdk",
    "outputId": "5f23e362-dcb0-4f97-a7f2-7c0e0d0fd7ab"
   },
   "outputs": [
    {
     "data": {
      "text/plain": [
       "(905857, 7)"
      ]
     },
     "execution_count": 84,
     "metadata": {},
     "output_type": "execute_result"
    }
   ],
   "source": [
    "bitstamp.shape"
   ]
  },
  {
   "cell_type": "code",
   "execution_count": 98,
   "metadata": {
    "colab": {},
    "colab_type": "code",
    "id": "k30Y1vjji5Nk"
   },
   "outputs": [],
   "source": [
    "class Trader:\n",
    "    def __init__(self, max_turns=60*24, fee_rate=.0005):\n",
    "        self.action_space = [i for i in range(17)]\n",
    "        self.max_turns = max_turns\n",
    "        self.fee_rate = fee_rate\n",
    "        self.reset()\n",
    "        \n",
    "    def reset(self):\n",
    "        self.t = 0\n",
    "        self.cash = 100000\n",
    "        self.coins = 0\n",
    "        self.time = random.randrange(60*24*60, len(bitstamp) - 60*24*60)\n",
    "        self.done = False\n",
    "        s = self.t+self.time, self.coins, self.cash\n",
    "        return s\n",
    "\n",
    "    def step(self, action):\n",
    "        if self.t == self.max_turns:\n",
    "            self.done = True\n",
    "        price_open = bitstamp[self.time + self.t][0]\n",
    "        price_close = bitstamp[self.time + self.t + 1][0]\n",
    "        prev_asset = price_open * self.coins + self.cash\n",
    "        percent = action-8\n",
    "        if percent < 0:\n",
    "            coins_sold = self.coins * (-percent) * .1\n",
    "            self.cash += coins_sold * price_open * (1-self.fee_rate)\n",
    "            self.coins -= coins_sold\n",
    "\n",
    "        elif percent > 0:\n",
    "            money_spent = self.cash * percent * .1 \n",
    "            self.coins += money_spent * (1-self.fee_rate) / price_open\n",
    "            self.cash -= money_spent\n",
    "            \n",
    "        r = price_close * self.coins + self.cash - prev_asset\n",
    "        s = self.t+self.time, self.coins, self.cash\n",
    "        self.asset = price_close * self.coins + self.cash\n",
    "        if self.asset < 60000:\n",
    "            self.done = True\n",
    "            \n",
    "        self.t += 1\n",
    "        return s, r, self.done"
   ]
  },
  {
   "cell_type": "code",
   "execution_count": 100,
   "metadata": {
    "colab": {
     "base_uri": "https://localhost:8080/",
     "height": 1697
    },
    "colab_type": "code",
    "id": "76EzOT_DiAyD",
    "outputId": "9444299d-cf59-456f-ba32-ab456087d237"
   },
   "outputs": [
    {
     "name": "stdout",
     "output_type": "stream",
     "text": [
      "Tensor(\"input_1:0\", shape=(?, 302402), dtype=float32)\n",
      "Tensor(\"reshape/Reshape:0\", shape=(?, 43200, 7), dtype=float32) Tensor(\"lambda_1/strided_slice:0\", shape=(?, 2), dtype=float32)\n",
      "Tensor(\"lstm/TensorArrayReadV3:0\", shape=(?, 7), dtype=float32)\n",
      "Tensor(\"dense/BiasAdd:0\", shape=(?, 1), dtype=float32) Tensor(\"lambda_1/strided_slice:0\", shape=(?, 2), dtype=float32)\n",
      "Tensor(\"dense_1/Relu:0\", shape=(?, 17), dtype=float32)\n",
      "__________________________________________________________________________________________________\n",
      "Layer (type)                    Output Shape         Param #     Connected to                     \n",
      "==================================================================================================\n",
      "input_1 (InputLayer)            (None, 302402)       0                                            \n",
      "__________________________________________________________________________________________________\n",
      "lambda (Lambda)                 (None, 302400)       0           input_1[0][0]                    \n",
      "__________________________________________________________________________________________________\n",
      "reshape (Reshape)               (None, 43200, 7)     0           lambda[0][0]                     \n",
      "__________________________________________________________________________________________________\n",
      "lstm (LSTM)                     (None, 7)            420         reshape[0][0]                    \n",
      "__________________________________________________________________________________________________\n",
      "dense (Dense)                   (None, 1)            8           lstm[0][0]                       \n",
      "__________________________________________________________________________________________________\n",
      "lambda_1 (Lambda)               (None, 2)            0           input_1[0][0]                    \n",
      "__________________________________________________________________________________________________\n",
      "concatenate (Concatenate)       (None, 3)            0           dense[0][0]                      \n",
      "                                                                 lambda_1[0][0]                   \n",
      "__________________________________________________________________________________________________\n",
      "dense_1 (Dense)                 (None, 17)           68          concatenate[0][0]                \n",
      "==================================================================================================\n",
      "Total params: 496\n",
      "Trainable params: 496\n",
      "Non-trainable params: 0\n",
      "__________________________________________________________________________________________________\n",
      "None\n",
      "playing\n",
      "150413 1441 17149.3502595 80.1304073885 88781.9279444\n",
      "[Episode 0] - Mean survival time over last 100 episodes was -11218.072055564495 ticks.\n",
      "replaying\n",
      "Epoch 1/1\n",
      "1/1 [==============================] - 40s 40s/step - loss: nan\n",
      "playing\n",
      "818334 1441 71753.1529691 1.27524566294 83443.8145546\n",
      "[Episode 1] - Mean survival time over last 100 episodes was -13887.128750483484 ticks.\n",
      "replaying\n",
      "Epoch 1/1\n",
      "1/1 [==============================] - 39s 39s/step - loss: nan\n",
      "playing\n"
     ]
    },
    {
     "ename": "KeyboardInterrupt",
     "evalue": "",
     "output_type": "error",
     "traceback": [
      "\u001b[0;31m---------------------------------------------------------------------------\u001b[0m",
      "\u001b[0;31mKeyboardInterrupt\u001b[0m                         Traceback (most recent call last)",
      "\u001b[0;32m<ipython-input-100-536df48dc8e5>\u001b[0m in \u001b[0;36m<module>\u001b[0;34m\u001b[0m\n\u001b[1;32m     90\u001b[0m \u001b[0;34m\u001b[0m\u001b[0m\n\u001b[1;32m     91\u001b[0m \u001b[0magent\u001b[0m \u001b[0;34m=\u001b[0m \u001b[0mDQNTrader\u001b[0m\u001b[0;34m(\u001b[0m\u001b[0;34m)\u001b[0m\u001b[0;34m\u001b[0m\u001b[0m\n\u001b[0;32m---> 92\u001b[0;31m \u001b[0magent\u001b[0m\u001b[0;34m.\u001b[0m\u001b[0mrun\u001b[0m\u001b[0;34m(\u001b[0m\u001b[0;34m)\u001b[0m\u001b[0;34m\u001b[0m\u001b[0m\n\u001b[0m",
      "\u001b[0;32m<ipython-input-100-536df48dc8e5>\u001b[0m in \u001b[0;36mrun\u001b[0;34m(self)\u001b[0m\n\u001b[1;32m     72\u001b[0m             \u001b[0mprint\u001b[0m\u001b[0;34m(\u001b[0m\u001b[0;34m'playing'\u001b[0m\u001b[0;34m)\u001b[0m\u001b[0;34m\u001b[0m\u001b[0m\n\u001b[1;32m     73\u001b[0m             \u001b[0;32mwhile\u001b[0m \u001b[0;32mnot\u001b[0m \u001b[0mdone\u001b[0m\u001b[0;34m:\u001b[0m\u001b[0;34m\u001b[0m\u001b[0m\n\u001b[0;32m---> 74\u001b[0;31m                 \u001b[0maction\u001b[0m \u001b[0;34m=\u001b[0m \u001b[0mself\u001b[0m\u001b[0;34m.\u001b[0m\u001b[0mchoose_action\u001b[0m\u001b[0;34m(\u001b[0m\u001b[0mstate\u001b[0m\u001b[0;34m,\u001b[0m \u001b[0mself\u001b[0m\u001b[0;34m.\u001b[0m\u001b[0mget_epsilon\u001b[0m\u001b[0;34m(\u001b[0m\u001b[0me\u001b[0m\u001b[0;34m)\u001b[0m\u001b[0;34m,\u001b[0m \u001b[0me\u001b[0m\u001b[0;34m)\u001b[0m\u001b[0;34m\u001b[0m\u001b[0m\n\u001b[0m\u001b[1;32m     75\u001b[0m                 \u001b[0mnext_state\u001b[0m\u001b[0;34m,\u001b[0m \u001b[0mreward\u001b[0m\u001b[0;34m,\u001b[0m \u001b[0mdone\u001b[0m \u001b[0;34m=\u001b[0m \u001b[0mself\u001b[0m\u001b[0;34m.\u001b[0m\u001b[0menv\u001b[0m\u001b[0;34m.\u001b[0m\u001b[0mstep\u001b[0m\u001b[0;34m(\u001b[0m\u001b[0maction\u001b[0m\u001b[0;34m)\u001b[0m\u001b[0;34m\u001b[0m\u001b[0m\n\u001b[1;32m     76\u001b[0m                 \u001b[0mself\u001b[0m\u001b[0;34m.\u001b[0m\u001b[0mmemory\u001b[0m\u001b[0;34m.\u001b[0m\u001b[0mappend\u001b[0m\u001b[0;34m(\u001b[0m\u001b[0;34m(\u001b[0m\u001b[0mstate\u001b[0m\u001b[0;34m,\u001b[0m \u001b[0maction\u001b[0m\u001b[0;34m,\u001b[0m \u001b[0mreward\u001b[0m\u001b[0;34m,\u001b[0m \u001b[0mnext_state\u001b[0m\u001b[0;34m,\u001b[0m \u001b[0mdone\u001b[0m\u001b[0;34m)\u001b[0m\u001b[0;34m)\u001b[0m\u001b[0;34m\u001b[0m\u001b[0m\n",
      "\u001b[0;32m<ipython-input-100-536df48dc8e5>\u001b[0m in \u001b[0;36mchoose_action\u001b[0;34m(self, state, epsilon, e)\u001b[0m\n\u001b[1;32m     40\u001b[0m     \u001b[0;32mdef\u001b[0m \u001b[0mchoose_action\u001b[0m\u001b[0;34m(\u001b[0m\u001b[0mself\u001b[0m\u001b[0;34m,\u001b[0m \u001b[0mstate\u001b[0m\u001b[0;34m,\u001b[0m \u001b[0mepsilon\u001b[0m\u001b[0;34m,\u001b[0m \u001b[0me\u001b[0m\u001b[0;34m)\u001b[0m\u001b[0;34m:\u001b[0m\u001b[0;34m\u001b[0m\u001b[0m\n\u001b[1;32m     41\u001b[0m         \u001b[0mstate\u001b[0m \u001b[0;34m=\u001b[0m \u001b[0mself\u001b[0m\u001b[0;34m.\u001b[0m\u001b[0mpreprocess_state\u001b[0m\u001b[0;34m(\u001b[0m\u001b[0mstate\u001b[0m\u001b[0;34m)\u001b[0m\u001b[0;34m\u001b[0m\u001b[0m\n\u001b[0;32m---> 42\u001b[0;31m         \u001b[0;32mreturn\u001b[0m \u001b[0mrandom\u001b[0m\u001b[0;34m.\u001b[0m\u001b[0mchoice\u001b[0m\u001b[0;34m(\u001b[0m\u001b[0mself\u001b[0m\u001b[0;34m.\u001b[0m\u001b[0menv\u001b[0m\u001b[0;34m.\u001b[0m\u001b[0maction_space\u001b[0m\u001b[0;34m)\u001b[0m \u001b[0;32mif\u001b[0m \u001b[0;34m(\u001b[0m\u001b[0mnp\u001b[0m\u001b[0;34m.\u001b[0m\u001b[0mrandom\u001b[0m\u001b[0;34m.\u001b[0m\u001b[0mrandom\u001b[0m\u001b[0;34m(\u001b[0m\u001b[0;34m)\u001b[0m \u001b[0;34m<=\u001b[0m \u001b[0mepsilon\u001b[0m\u001b[0;34m)\u001b[0m \u001b[0;32melse\u001b[0m \u001b[0mnp\u001b[0m\u001b[0;34m.\u001b[0m\u001b[0margmax\u001b[0m\u001b[0;34m(\u001b[0m\u001b[0mself\u001b[0m\u001b[0;34m.\u001b[0m\u001b[0mmodel\u001b[0m\u001b[0;34m.\u001b[0m\u001b[0mpredict\u001b[0m\u001b[0;34m(\u001b[0m\u001b[0mstate\u001b[0m\u001b[0;34m)\u001b[0m\u001b[0;34m[\u001b[0m\u001b[0;36m0\u001b[0m\u001b[0;34m]\u001b[0m\u001b[0;34m)\u001b[0m\u001b[0;34m\u001b[0m\u001b[0m\n\u001b[0m\u001b[1;32m     43\u001b[0m \u001b[0;34m\u001b[0m\u001b[0m\n\u001b[1;32m     44\u001b[0m     \u001b[0;32mdef\u001b[0m \u001b[0mget_epsilon\u001b[0m\u001b[0;34m(\u001b[0m\u001b[0mself\u001b[0m\u001b[0;34m,\u001b[0m \u001b[0mt\u001b[0m\u001b[0;34m)\u001b[0m\u001b[0;34m:\u001b[0m\u001b[0;34m\u001b[0m\u001b[0m\n",
      "\u001b[0;32m/anaconda3/lib/python3.6/site-packages/tensorflow/python/keras/engine/training.py\u001b[0m in \u001b[0;36mpredict\u001b[0;34m(self, x, batch_size, verbose, steps, max_queue_size, workers, use_multiprocessing)\u001b[0m\n\u001b[1;32m   1876\u001b[0m     \u001b[0;32melse\u001b[0m\u001b[0;34m:\u001b[0m\u001b[0;34m\u001b[0m\u001b[0m\n\u001b[1;32m   1877\u001b[0m       return training_arrays.predict_loop(\n\u001b[0;32m-> 1878\u001b[0;31m           self, x, batch_size=batch_size, verbose=verbose, steps=steps)\n\u001b[0m\u001b[1;32m   1879\u001b[0m \u001b[0;34m\u001b[0m\u001b[0m\n\u001b[1;32m   1880\u001b[0m   \u001b[0;32mdef\u001b[0m \u001b[0mtrain_on_batch\u001b[0m\u001b[0;34m(\u001b[0m\u001b[0mself\u001b[0m\u001b[0;34m,\u001b[0m \u001b[0mx\u001b[0m\u001b[0;34m,\u001b[0m \u001b[0my\u001b[0m\u001b[0;34m=\u001b[0m\u001b[0;32mNone\u001b[0m\u001b[0;34m,\u001b[0m \u001b[0msample_weight\u001b[0m\u001b[0;34m=\u001b[0m\u001b[0;32mNone\u001b[0m\u001b[0;34m,\u001b[0m \u001b[0mclass_weight\u001b[0m\u001b[0;34m=\u001b[0m\u001b[0;32mNone\u001b[0m\u001b[0;34m)\u001b[0m\u001b[0;34m:\u001b[0m\u001b[0;34m\u001b[0m\u001b[0m\n",
      "\u001b[0;32m/anaconda3/lib/python3.6/site-packages/tensorflow/python/keras/engine/training_arrays.py\u001b[0m in \u001b[0;36mpredict_loop\u001b[0;34m(model, inputs, batch_size, verbose, steps)\u001b[0m\n\u001b[1;32m    324\u001b[0m         \u001b[0mins_batch\u001b[0m\u001b[0;34m[\u001b[0m\u001b[0mi\u001b[0m\u001b[0;34m]\u001b[0m \u001b[0;34m=\u001b[0m \u001b[0mins_batch\u001b[0m\u001b[0;34m[\u001b[0m\u001b[0mi\u001b[0m\u001b[0;34m]\u001b[0m\u001b[0;34m.\u001b[0m\u001b[0mtoarray\u001b[0m\u001b[0;34m(\u001b[0m\u001b[0;34m)\u001b[0m\u001b[0;34m\u001b[0m\u001b[0m\n\u001b[1;32m    325\u001b[0m \u001b[0;34m\u001b[0m\u001b[0m\n\u001b[0;32m--> 326\u001b[0;31m       \u001b[0mbatch_outs\u001b[0m \u001b[0;34m=\u001b[0m \u001b[0mf\u001b[0m\u001b[0;34m(\u001b[0m\u001b[0mins_batch\u001b[0m\u001b[0;34m)\u001b[0m\u001b[0;34m\u001b[0m\u001b[0m\n\u001b[0m\u001b[1;32m    327\u001b[0m       \u001b[0;32mif\u001b[0m \u001b[0;32mnot\u001b[0m \u001b[0misinstance\u001b[0m\u001b[0;34m(\u001b[0m\u001b[0mbatch_outs\u001b[0m\u001b[0;34m,\u001b[0m \u001b[0mlist\u001b[0m\u001b[0;34m)\u001b[0m\u001b[0;34m:\u001b[0m\u001b[0;34m\u001b[0m\u001b[0m\n\u001b[1;32m    328\u001b[0m         \u001b[0mbatch_outs\u001b[0m \u001b[0;34m=\u001b[0m \u001b[0;34m[\u001b[0m\u001b[0mbatch_outs\u001b[0m\u001b[0;34m]\u001b[0m\u001b[0;34m\u001b[0m\u001b[0m\n",
      "\u001b[0;32m/anaconda3/lib/python3.6/site-packages/tensorflow/python/keras/backend.py\u001b[0m in \u001b[0;36m__call__\u001b[0;34m(self, inputs)\u001b[0m\n\u001b[1;32m   2984\u001b[0m \u001b[0;34m\u001b[0m\u001b[0m\n\u001b[1;32m   2985\u001b[0m     fetched = self._callable_fn(*array_vals,\n\u001b[0;32m-> 2986\u001b[0;31m                                 run_metadata=self.run_metadata)\n\u001b[0m\u001b[1;32m   2987\u001b[0m     \u001b[0mself\u001b[0m\u001b[0;34m.\u001b[0m\u001b[0m_call_fetch_callbacks\u001b[0m\u001b[0;34m(\u001b[0m\u001b[0mfetched\u001b[0m\u001b[0;34m[\u001b[0m\u001b[0;34m-\u001b[0m\u001b[0mlen\u001b[0m\u001b[0;34m(\u001b[0m\u001b[0mself\u001b[0m\u001b[0;34m.\u001b[0m\u001b[0m_fetches\u001b[0m\u001b[0;34m)\u001b[0m\u001b[0;34m:\u001b[0m\u001b[0;34m]\u001b[0m\u001b[0;34m)\u001b[0m\u001b[0;34m\u001b[0m\u001b[0m\n\u001b[1;32m   2988\u001b[0m     \u001b[0;32mreturn\u001b[0m \u001b[0mfetched\u001b[0m\u001b[0;34m[\u001b[0m\u001b[0;34m:\u001b[0m\u001b[0mlen\u001b[0m\u001b[0;34m(\u001b[0m\u001b[0mself\u001b[0m\u001b[0;34m.\u001b[0m\u001b[0moutputs\u001b[0m\u001b[0;34m)\u001b[0m\u001b[0;34m]\u001b[0m\u001b[0;34m\u001b[0m\u001b[0m\n",
      "\u001b[0;32m/anaconda3/lib/python3.6/site-packages/tensorflow/python/client/session.py\u001b[0m in \u001b[0;36m__call__\u001b[0;34m(self, *args, **kwargs)\u001b[0m\n\u001b[1;32m   1437\u001b[0m           ret = tf_session.TF_SessionRunCallable(\n\u001b[1;32m   1438\u001b[0m               \u001b[0mself\u001b[0m\u001b[0;34m.\u001b[0m\u001b[0m_session\u001b[0m\u001b[0;34m.\u001b[0m\u001b[0m_session\u001b[0m\u001b[0;34m,\u001b[0m \u001b[0mself\u001b[0m\u001b[0;34m.\u001b[0m\u001b[0m_handle\u001b[0m\u001b[0;34m,\u001b[0m \u001b[0margs\u001b[0m\u001b[0;34m,\u001b[0m \u001b[0mstatus\u001b[0m\u001b[0;34m,\u001b[0m\u001b[0;34m\u001b[0m\u001b[0m\n\u001b[0;32m-> 1439\u001b[0;31m               run_metadata_ptr)\n\u001b[0m\u001b[1;32m   1440\u001b[0m         \u001b[0;32mif\u001b[0m \u001b[0mrun_metadata\u001b[0m\u001b[0;34m:\u001b[0m\u001b[0;34m\u001b[0m\u001b[0m\n\u001b[1;32m   1441\u001b[0m           \u001b[0mproto_data\u001b[0m \u001b[0;34m=\u001b[0m \u001b[0mtf_session\u001b[0m\u001b[0;34m.\u001b[0m\u001b[0mTF_GetBuffer\u001b[0m\u001b[0;34m(\u001b[0m\u001b[0mrun_metadata_ptr\u001b[0m\u001b[0;34m)\u001b[0m\u001b[0;34m\u001b[0m\u001b[0m\n",
      "\u001b[0;31mKeyboardInterrupt\u001b[0m: "
     ]
    }
   ],
   "source": [
    "class DQNTrader():\n",
    "    def __init__(self, n_episodes=100, n_win_ticks=195, \n",
    "                 gamma=.9999, epsilon=1.0, epsilon_min=0.01, epsilon_log_decay=0.995, alpha=0.01, alpha_decay=0.01, \n",
    "                 batch_size=1):\n",
    "        self.env = Trader()\n",
    "        self.memory = deque(maxlen=100000)\n",
    "        self.gamma = gamma\n",
    "        self.epsilon = epsilon\n",
    "        self.epsilon_min = epsilon_min\n",
    "        self.epsilon_decay = epsilon_log_decay\n",
    "        self.alpha = alpha\n",
    "        self.alpha_decay = alpha_decay\n",
    "        self.n_episodes = n_episodes\n",
    "        self.n_win_ticks = n_win_ticks\n",
    "        self.batch_size = batch_size\n",
    "\n",
    "        tf.reset_default_graph()\n",
    "        \n",
    "        inputs = Input(shape=(60*24*30*7+2,))\n",
    "        print(inputs)\n",
    "        t0 = Lambda(lambda i:i[:,:-2])(inputs)\n",
    "        c = Lambda(lambda i:i[:,-2:])(inputs)\n",
    "        t = Reshape((60*24*30,7))(t0)\n",
    "        print(t,c)\n",
    "        lstm = LSTM(7, return_sequences=False)(t)\n",
    "        print(lstm)\n",
    "        h1 = Dense(1)(lstm)\n",
    "        print(h1,c)\n",
    "        outputs = Dense(len(self.env.action_space), 'relu')(k.layers.concatenate([h1, c],1))\n",
    "        print(outputs)\n",
    "        self.model = k.models.Model(inputs=inputs, outputs=outputs)\n",
    "        self.model.compile(optimizer='Adam', loss='mse')                               \n",
    "        print(self.model.summary())\n",
    "        \n",
    "    def preprocess_state(self, s):\n",
    "        time, coins, cash = s\n",
    "        unzip = np.append(bitstamp[time-60*24*30 : time].flatten(), [coins, cash])\n",
    "        state = unzip.reshape(1,60*24*30*7+2) # 1 batch of input\n",
    "        return state                                                        \n",
    "    def choose_action(self, state, epsilon, e):\n",
    "        state = self.preprocess_state(state)\n",
    "        return random.choice(self.env.action_space) if (np.random.random() <= epsilon) else np.argmax(self.model.predict(state)[0])\n",
    "\n",
    "    def get_epsilon(self, t):\n",
    "        return max(self.epsilon_min, min(self.epsilon, 1.0 - math.log10((t + 1) * self.epsilon_decay)))\n",
    "    \n",
    "    def replay(self, batch_size):\n",
    "        minibatch = random.sample(self.memory, min(len(self.memory), batch_size))\n",
    "        xs, ys = [],[]\n",
    "        for state, action, reward, next_state, done in minibatch:\n",
    "            state = self.preprocess_state(state)\n",
    "            next_state = self.preprocess_state(next_state)\n",
    "            if done:\n",
    "                target = reward\n",
    "            else:\n",
    "                target = reward + self.gamma * np.max(self.model.predict(next_state)[0])\n",
    "            Q = self.model.predict(state)\n",
    "            Q[0][action] = target\n",
    "            xs.append(state[0])\n",
    "            ys.append(Q[0])\n",
    "        self.model.fit(np.array(xs), np.array(ys), epochs=1)\n",
    "\n",
    "        if self.epsilon > self.epsilon_min:\n",
    "            self.epsilon *= self.epsilon_decay\n",
    "\n",
    "    def run(self):\n",
    "        scores = deque(maxlen=100)\n",
    "        for e in range(self.n_episodes):\n",
    "            state = self.env.reset()\n",
    "            done = False\n",
    "            rewards = 0\n",
    "            print('playing')\n",
    "            while not done:\n",
    "                action = self.choose_action(state, self.get_epsilon(e), e)\n",
    "                next_state, reward, done = self.env.step(action)\n",
    "                self.memory.append((state, action, reward, next_state, done))\n",
    "                state = next_state\n",
    "                rewards += reward\n",
    "            \n",
    "            print(self.env.time, self.env.t, self.env.cash, self.env.coins, self.env.asset)\n",
    "            scores.append(rewards)\n",
    "            mean_score = np.mean(scores)\n",
    "            if mean_score >= self.n_win_ticks and e >= 100:\n",
    "                if not self.quiet: print('Ran {} episodes. Solved after {} trials ✔'.format(e, e - 100))\n",
    "                return e - 100\n",
    "            print('[Episode {}] - Mean survival time over last 100 episodes was {} ticks.'.format(e, mean_score))\n",
    "            print('replaying')\n",
    "            self.replay(self.batch_size)\n",
    "        return e\n",
    "\n",
    "agent = DQNTrader()\n",
    "agent.run()"
   ]
  },
  {
   "cell_type": "code",
   "execution_count": null,
   "metadata": {
    "colab": {},
    "colab_type": "code",
    "id": "9IcK8yU_fVUY"
   },
   "outputs": [],
   "source": [
    "time=60*24*30\n",
    "np.append(bitstamp[time-60*24*30 : time+1].flatten(), [1, 1]).shape"
   ]
  },
  {
   "cell_type": "code",
   "execution_count": null,
   "metadata": {
    "colab": {},
    "colab_type": "code",
    "id": "aVoUTGqnsIjo"
   },
   "outputs": [],
   "source": [
    "a=np.array([1,2,3])"
   ]
  },
  {
   "cell_type": "code",
   "execution_count": 38,
   "metadata": {
    "colab": {
     "base_uri": "https://localhost:8080/",
     "height": 34
    },
    "colab_type": "code",
    "id": "54rOx214sPR-",
    "outputId": "455df7d2-b27b-40c6-8c1f-7e248746abbf"
   },
   "outputs": [
    {
     "data": {
      "text/plain": [
       "(3,)"
      ]
     },
     "execution_count": 38,
     "metadata": {
      "tags": []
     },
     "output_type": "execute_result"
    }
   ],
   "source": [
    "a.shape"
   ]
  },
  {
   "cell_type": "code",
   "execution_count": 39,
   "metadata": {
    "colab": {
     "base_uri": "https://localhost:8080/",
     "height": 34
    },
    "colab_type": "code",
    "id": "gdLm_-YXsPUu",
    "outputId": "47684185-4f5b-4443-deda-7855076de2e3"
   },
   "outputs": [
    {
     "data": {
      "text/plain": [
       "(3,)"
      ]
     },
     "execution_count": 39,
     "metadata": {
      "tags": []
     },
     "output_type": "execute_result"
    }
   ],
   "source": [
    "b=a\n",
    "b.shape"
   ]
  },
  {
   "cell_type": "code",
   "execution_count": 40,
   "metadata": {
    "colab": {
     "base_uri": "https://localhost:8080/",
     "height": 34
    },
    "colab_type": "code",
    "id": "zFVvPBuhsPXO",
    "outputId": "5779463f-69a0-487c-f911-ec51a4ef1d4c"
   },
   "outputs": [
    {
     "data": {
      "text/plain": [
       "[array([1, 2, 3]), array([1, 2, 3])]"
      ]
     },
     "execution_count": 40,
     "metadata": {
      "tags": []
     },
     "output_type": "execute_result"
    }
   ],
   "source": [
    "[a,b]"
   ]
  },
  {
   "cell_type": "code",
   "execution_count": 42,
   "metadata": {
    "colab": {
     "base_uri": "https://localhost:8080/",
     "height": 34
    },
    "colab_type": "code",
    "id": "staypQoUsPZu",
    "outputId": "69e090bc-760c-4367-8685-51208143e981"
   },
   "outputs": [
    {
     "data": {
      "text/plain": [
       "(2, 3)"
      ]
     },
     "execution_count": 42,
     "metadata": {
      "tags": []
     },
     "output_type": "execute_result"
    }
   ],
   "source": [
    "np.array([a,b]).shape"
   ]
  },
  {
   "cell_type": "code",
   "execution_count": 92,
   "metadata": {
    "colab": {},
    "colab_type": "code",
    "id": "_iDTwQzcsPcO"
   },
   "outputs": [],
   "source": [
    "a='''\n",
    "0.7011469235902934\n",
    "0.7011469235902934\n",
    "0.7011469235902934\n",
    "0.7011469235902934\n",
    "0.7011469235902934\n",
    "0.7011469235902934\n",
    "0.7011469235902934\n",
    "0.7011469235902934\n",
    "0.7011469235902934\n",
    "0.7011469235902934\n",
    "0.7011469235902934\n",
    "0.7011469235902934\n",
    "0.7011469235902934\n",
    "0.7011469235902934\n",
    "0.7011469235902934\n",
    "0.7011469235902934\n",
    "0.7011469235902934\n",
    "0.7011469235902934\n",
    "0.7011469235902934\n",
    "0.7011469235902934\n",
    "0.7011469235902934\n",
    "0.7011469235902934\n",
    "0.7011469235902934\n",
    "0.7011469235902934\n",
    "0.7011469235902934\n",
    "0.7011469235902934\n",
    "0.7011469235902934\n",
    "0.7011469235902934\n",
    "0.7011469235902934\n",
    "0.7011469235902934\n",
    "0.7011469235902934\n",
    "0.7011469235902934\n",
    "0.7011469235902934\n",
    "0.7011469235902934\n",
    "0.7011469235902934\n",
    "0.7011469235902934\n",
    "0.7011469235902934\n",
    "0.7011469235902934\n",
    "0.7011469235902934\n",
    "0.7011469235902934\n",
    "0.7011469235902934\n",
    "0.7011469235902934\n",
    "0.7011469235902934\n",
    "0.7011469235902934\n",
    "0.7011469235902934\n",
    "0.7011469235902934\n",
    "0.7011469235902934\n",
    "0.7011469235902934\n",
    "0.7011469235902934\n",
    "0.7011469235902934\n",
    "0.7011469235902934\n",
    "0.7011469235902934\n",
    "0.7011469235902934\n",
    "0.7011469235902934\n",
    "0.7011469235902934\n",
    "0.7011469235902934\n",
    "0.7011469235902934\n",
    "0.7011469235902934\n",
    "0.7011469235902934\n",
    "0.7011469235902934\n",
    "0.7011469235902934\n",
    "0.7011469235902934\n",
    "0.7011469235902934\n",
    "0.7011469235902934\n",
    "0.7011469235902934\n",
    "0.7011469235902934\n",
    "0.7011469235902934\n",
    "0.7011469235902934\n",
    "0.7011469235902934\n",
    "0.7011469235902934\n",
    "0.7011469235902934\n",
    "0.7011469235902934\n",
    "0.7011469235902934\n",
    "0.7011469235902934\n",
    "0.7011469235902934\n",
    "0.7011469235902934\n",
    "0.7011469235902934\n",
    "0.7011469235902934\n",
    "0.7011469235902934\n",
    "0.7011469235902934\n",
    "0.7011469235902934\n",
    "0.7011469235902934\n",
    "0.7011469235902934\n",
    "0.7011469235902934\n",
    "0.7011469235902934\n",
    "0.7011469235902934\n",
    "0.7011469235902934\n",
    "0.7011469235902934\n",
    "0.7011469235902934\n",
    "0.7011469235902934\n",
    "0.7011469235902934\n",
    "0.7011469235902934\n",
    "0.7011469235902934\n",
    "0.7011469235902934\n",
    "0.7011469235902934\n",
    "0.7011469235902934\n",
    "0.7011469235902934\n",
    "0.7011469235902934\n",
    "0.7011469235902934\n",
    "0.7011469235902934\n",
    "0.7011469235902934\n",
    "0.7011469235902934\n",
    "0.7011469235902934\n",
    "0.7011469235902934\n",
    "0.7011469235902934\n",
    "0.7011469235902934\n",
    "0.7011469235902934\n",
    "0.7011469235902934\n",
    "0.7011469235902934\n",
    "0.7011469235902934\n",
    "0.7011469235902934\n",
    "0.7011469235902934\n",
    "0.7011469235902934\n",
    "0.7011469235902934\n",
    "0.7011469235902934\n",
    "0.7011469235902934\n",
    "0.7011469235902934\n",
    "0.7011469235902934\n",
    "0.7011469235902934\n",
    "0.7011469235902934\n",
    "0.7011469235902934\n",
    "0.7011469235902934\n",
    "0.7011469235902934\n",
    "0.7011469235902934\n",
    "0.7011469235902934\n",
    "0.7011469235902934\n",
    "0.7011469235902934\n",
    "0.7011469235902934\n",
    "0.7011469235902934\n",
    "0.7011469235902934\n",
    "0.7011469235902934\n",
    "0.7011469235902934\n",
    "0.7011469235902934\n",
    "0.7011469235902934\n",
    "0.7011469235902934\n",
    "0.7011469235902934\n",
    "0.7011469235902934\n",
    "0.7011469235902934\n",
    "0.7011469235902934\n",
    "0.7011469235902934\n",
    "0.7011469235902934\n",
    "0.7011469235902934\n",
    "0.7011469235902934\n",
    "0.7011469235902934\n",
    "0.7011469235902934\n",
    "0.7011469235902934\n",
    "0.7011469235902934\n",
    "0.7011469235902934\n",
    "0.7011469235902934\n",
    "0.7011469235902934\n",
    "0.7011469235902934\n",
    "0.7011469235902934\n",
    "0.7011469235902934\n",
    "0.7011469235902934\n",
    "0.7011469235902934\n",
    "0.7011469235902934\n",
    "0.7011469235902934\n",
    "0.7011469235902934\n",
    "0.7011469235902934\n",
    "0.7011469235902934\n",
    "0.7011469235902934\n",
    "0.7011469235902934\n",
    "0.7011469235902934\n",
    "0.7011469235902934\n",
    "0.7011469235902934\n",
    "0.7011469235902934\n",
    "0.7011469235902934\n",
    "0.7011469235902934\n",
    "0.7011469235902934\n",
    "0.7011469235902934\n",
    "0.7011469235902934\n",
    "0.7011469235902934\n",
    "0.7011469235902934\n",
    "0.7011469235902934\n",
    "0.7011469235902934\n",
    "0.7011469235902934\n",
    "0.7011469235902934\n",
    "0.7011469235902934\n",
    "0.7011469235902934\n",
    "0.7011469235902934\n",
    "0.7011469235902934\n",
    "0.7011469235902934\n",
    "0.7011469235902934\n",
    "0.7011469235902934\n",
    "0.7011469235902934\n",
    "0.7011469235902934\n",
    "0.7011469235902934\n",
    "0.7011469235902934\n",
    "0.7011469235902934\n",
    "0.7011469235902934\n",
    "0.7011469235902934\n",
    "0.7011469235902934\n",
    "0.7011469235902934\n",
    "0.7011469235902934\n",
    "0.7011469235902934\n",
    "0.7011469235902934\n",
    "0.7011469235902934\n",
    "0.7011469235902934\n",
    "0.7011469235902934\n",
    "0.7011469235902934\n",
    "0.7011469235902934\n",
    "0.7011469235902934\n",
    "0.7011469235902934\n",
    "0.7011469235902934\n",
    "0.7011469235902934\n",
    "0.7011469235902934\n",
    "0.7011469235902934\n",
    "0.7011469235902934\n",
    "0.7011469235902934\n",
    "0.7011469235902934\n",
    "0.7011469235902934\n",
    "0.7011469235902934\n",
    "0.7011469235902934\n",
    "0.7011469235902934\n",
    "0.7011469235902934\n",
    "0.7011469235902934\n",
    "0.7011469235902934\n",
    "0.7011469235902934\n",
    "0.7011469235902934\n",
    "0.7011469235902934\n",
    "0.7011469235902934\n",
    "0.7011469235902934\n",
    "0.7011469235902934\n",
    "0.7011469235902934\n",
    "0.7011469235902934\n",
    "0.7011469235902934\n",
    "0.7011469235902934\n",
    "0.7011469235902934\n",
    "0.7011469235902934\n",
    "0.7011469235902934\n",
    "0.7011469235902934\n",
    "0.7011469235902934\n",
    "0.7011469235902934\n",
    "0.7011469235902934\n",
    "0.7011469235902934\n",
    "0.7011469235902934\n",
    "0.7011469235902934\n",
    "0.7011469235902934\n",
    "0.7011469235902934\n",
    "0.7011469235902934\n",
    "0.7011469235902934\n",
    "0.7011469235902934\n",
    "0.7011469235902934\n",
    "0.7011469235902934\n",
    "0.7011469235902934\n",
    "0.7011469235902934\n",
    "0.7011469235902934\n",
    "0.7011469235902934\n",
    "0.7011469235902934\n",
    "0.7011469235902934\n",
    "0.7011469235902934\n",
    "0.7011469235902934\n",
    "0.7011469235902934\n",
    "0.7011469235902934\n",
    "0.7011469235902934\n",
    "0.7011469235902934\n",
    "0.7011469235902934\n",
    "0.7011469235902934\n",
    "0.7011469235902934\n",
    "0.7011469235902934\n",
    "0.7011469235902934\n",
    "0.7011469235902934\n",
    "0.7011469235902934\n",
    "0.7011469235902934\n",
    "0.7011469235902934\n",
    "0.7011469235902934\n",
    "0.7011469235902934\n",
    "0.7011469235902934\n",
    "0.7011469235902934\n",
    "0.7011469235902934\n",
    "0.7011469235902934\n",
    "0.7011469235902934\n",
    "0.7011469235902934\n",
    "0.7011469235902934\n",
    "0.7011469235902934\n",
    "0.7011469235902934\n",
    "0.7011469235902934\n",
    "0.7011469235902934\n",
    "0.7011469235902934\n",
    "0.7011469235902934\n",
    "0.7011469235902934\n",
    "0.7011469235902934\n",
    "0.7011469235902934\n",
    "0.7011469235902934\n",
    "0.7011469235902934\n",
    "0.7011469235902934\n",
    "0.7011469235902934\n",
    "0.7011469235902934\n",
    "0.7011469235902934\n",
    "0.7011469235902934\n",
    "0.7011469235902934\n",
    "0.7011469235902934\n",
    "0.7011469235902934\n",
    "0.7011469235902934\n",
    "0.7011469235902934\n",
    "0.7011469235902934\n",
    "0.7011469235902934\n",
    "0.7011469235902934\n",
    "0.7011469235902934\n",
    "0.7011469235902934\n",
    "0.7011469235902934\n",
    "0.7011469235902934\n",
    "0.7011469235902934\n",
    "0.7011469235902934\n",
    "0.7011469235902934\n",
    "0.7011469235902934\n",
    "0.7011469235902934\n",
    "0.7011469235902934\n",
    "0.7011469235902934\n",
    "0.7011469235902934\n",
    "0.7011469235902934\n",
    "0.7011469235902934\n",
    "0.7011469235902934\n",
    "0.7011469235902934\n",
    "0.7011469235902934\n",
    "0.7011469235902934\n",
    "0.7011469235902934\n",
    "0.7011469235902934\n",
    "0.7011469235902934\n",
    "0.7011469235902934\n",
    "0.7011469235902934\n",
    "0.7011469235902934\n",
    "0.7011469235902934\n",
    "0.7011469235902934\n",
    "0.7011469235902934\n",
    "0.7011469235902934\n",
    "0.7011469235902934\n",
    "0.7011469235902934\n",
    "0.7011469235902934\n",
    "0.7011469235902934\n",
    "0.7011469235902934\n",
    "0.7011469235902934\n",
    "0.7011469235902934\n",
    "0.7011469235902934\n",
    "0.7011469235902934\n",
    "0.7011469235902934\n",
    "0.7011469235902934\n",
    "0.7011469235902934\n",
    "0.7011469235902934\n",
    "0.7011469235902934\n",
    "0.7011469235902934\n",
    "0.7011469235902934\n",
    "0.7011469235902934\n",
    "0.7011469235902934\n",
    "0.7011469235902934\n",
    "0.7011469235902934\n",
    "0.7011469235902934\n",
    "0.7011469235902934\n",
    "0.7011469235902934\n",
    "0.7011469235902934\n",
    "0.7011469235902934\n",
    "0.7011469235902934\n",
    "0.7011469235902934\n",
    "0.7011469235902934\n",
    "'''.split('\\n')"
   ]
  },
  {
   "cell_type": "code",
   "execution_count": 93,
   "metadata": {
    "colab": {},
    "colab_type": "code",
    "id": "lFrUWNSafVUh"
   },
   "outputs": [
    {
     "data": {
      "text/plain": [
       "356"
      ]
     },
     "execution_count": 93,
     "metadata": {},
     "output_type": "execute_result"
    }
   ],
   "source": [
    "len(a)"
   ]
  },
  {
   "cell_type": "code",
   "execution_count": null,
   "metadata": {},
   "outputs": [],
   "source": []
  }
 ],
 "metadata": {
  "accelerator": "GPU",
  "colab": {
   "collapsed_sections": [],
   "name": "“MidtermCode.ipynb”的副本",
   "provenance": [],
   "version": "0.3.2"
  },
  "kernelspec": {
   "display_name": "Python 3",
   "language": "python",
   "name": "python3"
  },
  "language_info": {
   "codemirror_mode": {
    "name": "ipython",
    "version": 3
   },
   "file_extension": ".py",
   "mimetype": "text/x-python",
   "name": "python",
   "nbconvert_exporter": "python",
   "pygments_lexer": "ipython3",
   "version": "3.6.0"
  }
 },
 "nbformat": 4,
 "nbformat_minor": 2
}
