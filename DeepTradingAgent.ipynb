{
  "nbformat": 4,
  "nbformat_minor": 0,
  "metadata": {
    "colab": {
      "name": "“MidtermCode.ipynb”的副本",
      "version": "0.3.2",
      "provenance": [],
      "collapsed_sections": []
    },
    "kernelspec": {
      "display_name": "Python 3",
      "language": "python",
      "name": "python3"
    },
    "accelerator": "GPU"
  },
  "cells": [
    {
      "metadata": {
        "colab_type": "code",
        "id": "2sNvsc8OaKc-",
        "colab": {}
      },
      "cell_type": "code",
      "source": [
        "%matplotlib inline\n",
        "import tensorflow as tf\n",
        "import matplotlib.pyplot as plt\n",
        "import pandas as pd\n",
        "import numpy as np\n",
        "import random\n",
        "import os\n",
        "import math\n",
        "from collections import deque"
      ],
      "execution_count": 0,
      "outputs": []
    },
    {
      "metadata": {
        "colab_type": "code",
        "id": "2RwoFIb_dbIF",
        "outputId": "4af22615-c367-44c1-e828-2e4b819cfa88",
        "colab": {
          "base_uri": "https://localhost:8080/",
          "height": 224
        }
      },
      "cell_type": "code",
      "source": [
        "bitstamp = pd.read_csv('bitstampUSD_1-min_data_2012-01-01_to_2018-06-27.csv')\n",
        "bitstamp.drop(labels='Timestamp', axis=1, inplace=True)\n",
        "bitstamp = bitstamp[2500000:]\n",
        "bitstamp.head()"
      ],
      "execution_count": 23,
      "outputs": [
        {
          "output_type": "execute_result",
          "data": {
            "text/html": [
              "<div>\n",
              "<style scoped>\n",
              "    .dataframe tbody tr th:only-of-type {\n",
              "        vertical-align: middle;\n",
              "    }\n",
              "\n",
              "    .dataframe tbody tr th {\n",
              "        vertical-align: top;\n",
              "    }\n",
              "\n",
              "    .dataframe thead th {\n",
              "        text-align: right;\n",
              "    }\n",
              "</style>\n",
              "<table border=\"1\" class=\"dataframe\">\n",
              "  <thead>\n",
              "    <tr style=\"text-align: right;\">\n",
              "      <th></th>\n",
              "      <th>Open</th>\n",
              "      <th>High</th>\n",
              "      <th>Low</th>\n",
              "      <th>Close</th>\n",
              "      <th>Volume_(BTC)</th>\n",
              "      <th>Volume_(Currency)</th>\n",
              "      <th>Weighted_Price</th>\n",
              "    </tr>\n",
              "  </thead>\n",
              "  <tbody>\n",
              "    <tr>\n",
              "      <th>2500000</th>\n",
              "      <td>609.87</td>\n",
              "      <td>609.87</td>\n",
              "      <td>609.41</td>\n",
              "      <td>609.41</td>\n",
              "      <td>4.200000</td>\n",
              "      <td>2560.068344</td>\n",
              "      <td>609.540082</td>\n",
              "    </tr>\n",
              "    <tr>\n",
              "      <th>2500001</th>\n",
              "      <td>609.87</td>\n",
              "      <td>609.87</td>\n",
              "      <td>609.41</td>\n",
              "      <td>609.41</td>\n",
              "      <td>4.200000</td>\n",
              "      <td>2560.068344</td>\n",
              "      <td>609.540082</td>\n",
              "    </tr>\n",
              "    <tr>\n",
              "      <th>2500002</th>\n",
              "      <td>609.87</td>\n",
              "      <td>609.87</td>\n",
              "      <td>609.41</td>\n",
              "      <td>609.41</td>\n",
              "      <td>4.200000</td>\n",
              "      <td>2560.068344</td>\n",
              "      <td>609.540082</td>\n",
              "    </tr>\n",
              "    <tr>\n",
              "      <th>2500003</th>\n",
              "      <td>610.97</td>\n",
              "      <td>610.97</td>\n",
              "      <td>610.97</td>\n",
              "      <td>610.97</td>\n",
              "      <td>0.018135</td>\n",
              "      <td>11.080002</td>\n",
              "      <td>610.970000</td>\n",
              "    </tr>\n",
              "    <tr>\n",
              "      <th>2500004</th>\n",
              "      <td>610.97</td>\n",
              "      <td>610.97</td>\n",
              "      <td>610.97</td>\n",
              "      <td>610.97</td>\n",
              "      <td>0.018135</td>\n",
              "      <td>11.080002</td>\n",
              "      <td>610.970000</td>\n",
              "    </tr>\n",
              "  </tbody>\n",
              "</table>\n",
              "</div>"
            ],
            "text/plain": [
              "           Open    High     Low   Close  Volume_(BTC)  Volume_(Currency)  \\\n",
              "2500000  609.87  609.87  609.41  609.41      4.200000        2560.068344   \n",
              "2500001  609.87  609.87  609.41  609.41      4.200000        2560.068344   \n",
              "2500002  609.87  609.87  609.41  609.41      4.200000        2560.068344   \n",
              "2500003  610.97  610.97  610.97  610.97      0.018135          11.080002   \n",
              "2500004  610.97  610.97  610.97  610.97      0.018135          11.080002   \n",
              "\n",
              "         Weighted_Price  \n",
              "2500000      609.540082  \n",
              "2500001      609.540082  \n",
              "2500002      609.540082  \n",
              "2500003      610.970000  \n",
              "2500004      610.970000  "
            ]
          },
          "metadata": {
            "tags": []
          },
          "execution_count": 23
        }
      ]
    },
    {
      "metadata": {
        "colab_type": "code",
        "id": "q_RoSGgXlFZt",
        "colab": {}
      },
      "cell_type": "code",
      "source": [
        "bitstamp = np.array(bitstamp)"
      ],
      "execution_count": 0,
      "outputs": []
    },
    {
      "metadata": {
        "colab_type": "code",
        "id": "fPRPFlmMfVUE",
        "outputId": "11a657bc-3417-47b3-8a24-157aed14b9d3",
        "colab": {
          "base_uri": "https://localhost:8080/",
          "height": 251
        }
      },
      "cell_type": "code",
      "source": [
        "bitstamp"
      ],
      "execution_count": 25,
      "outputs": [
        {
          "output_type": "execute_result",
          "data": {
            "text/plain": [
              "array([[6.09870000e+02, 6.09870000e+02, 6.09410000e+02, ...,\n",
              "        4.20000000e+00, 2.56006834e+03, 6.09540082e+02],\n",
              "       [6.09870000e+02, 6.09870000e+02, 6.09410000e+02, ...,\n",
              "        4.20000000e+00, 2.56006834e+03, 6.09540082e+02],\n",
              "       [6.09870000e+02, 6.09870000e+02, 6.09410000e+02, ...,\n",
              "        4.20000000e+00, 2.56006834e+03, 6.09540082e+02],\n",
              "       ...,\n",
              "       [6.07915000e+03, 6.08553000e+03, 6.07010000e+03, ...,\n",
              "        5.17498402e+00, 3.14474231e+04, 6.07681550e+03],\n",
              "       [6.08221000e+03, 6.08686000e+03, 6.06800000e+03, ...,\n",
              "        1.44823012e+01, 8.80003803e+04, 6.07640864e+03],\n",
              "       [6.07399000e+03, 6.07541000e+03, 6.06456000e+03, ...,\n",
              "        2.35110041e+01, 1.42706804e+05, 6.06978771e+03]])"
            ]
          },
          "metadata": {
            "tags": []
          },
          "execution_count": 25
        }
      ]
    },
    {
      "metadata": {
        "colab_type": "code",
        "id": "_ya1v2wWfVUI",
        "colab": {}
      },
      "cell_type": "code",
      "source": [
        "import tensorflow.keras as k"
      ],
      "execution_count": 0,
      "outputs": []
    },
    {
      "metadata": {
        "colab_type": "code",
        "id": "GCE1QZe8fVUK",
        "colab": {}
      },
      "cell_type": "code",
      "source": [
        "from tensorflow.keras.layers import *"
      ],
      "execution_count": 0,
      "outputs": []
    },
    {
      "metadata": {
        "colab_type": "code",
        "id": "MLMFLYFKkkdk",
        "outputId": "9aa3d08b-3c9b-4eca-ab67-fc34db5d0f87",
        "colab": {
          "base_uri": "https://localhost:8080/",
          "height": 35
        }
      },
      "cell_type": "code",
      "source": [
        "bitstamp.shape"
      ],
      "execution_count": 28,
      "outputs": [
        {
          "output_type": "execute_result",
          "data": {
            "text/plain": [
              "(905857, 7)"
            ]
          },
          "metadata": {
            "tags": []
          },
          "execution_count": 28
        }
      ]
    },
    {
      "metadata": {
        "colab_type": "code",
        "id": "k30Y1vjji5Nk",
        "colab": {}
      },
      "cell_type": "code",
      "source": [
        "class Trader:\n",
        "    def __init__(self, max_turns=60, fee_rate=.0005):\n",
        "        self.action_space = [i for i in range(17)]\n",
        "        self.max_turns = max_turns\n",
        "        self.fee_rate = fee_rate\n",
        "        self.reset()\n",
        "        \n",
        "    def reset(self):\n",
        "        self.t = 0\n",
        "        self.cash = 100000\n",
        "        self.coins = 0\n",
        "        self.time = random.randrange(60*24*60, len(bitstamp) - 60*24*60)\n",
        "        self.done = False\n",
        "        s = self.t+self.time, self.coins, self.cash\n",
        "        return s\n",
        "\n",
        "    def step(self, action):\n",
        "        if self.t == self.max_turns:\n",
        "            self.done = True\n",
        "        price_open = bitstamp[self.time + self.t][0]\n",
        "        price_close = bitstamp[self.time + self.t + 1][0]\n",
        "        prev_asset = price_open * self.coins + self.cash\n",
        "        percent = action-8\n",
        "        if percent < 0:\n",
        "            coins_sold = self.coins * (-percent) * .1\n",
        "            self.cash += coins_sold * price_open * (1-self.fee_rate)\n",
        "            self.coins -= coins_sold\n",
        "\n",
        "        elif percent > 0:\n",
        "            money_spent = self.cash * percent * .1 \n",
        "            self.coins += money_spent * (1-self.fee_rate) / price_open\n",
        "            self.cash -= money_spent\n",
        "            \n",
        "        r = price_close * self.coins + self.cash - prev_asset\n",
        "        s = self.t+self.time, self.coins, self.cash\n",
        "        self.asset = price_close * self.coins + self.cash\n",
        "        if self.asset < 60000:\n",
        "            self.done = True\n",
        "            \n",
        "        self.t += 1\n",
        "        return s, r, self.done"
      ],
      "execution_count": 0,
      "outputs": []
    },
    {
      "metadata": {
        "colab_type": "code",
        "id": "76EzOT_DiAyD",
        "outputId": "82ed6016-4bd1-49f2-fda7-dae331dbabf4",
        "colab": {
          "base_uri": "https://localhost:8080/",
          "height": 1295
        }
      },
      "cell_type": "code",
      "source": [
        "class DQNTrader():\n",
        "    def __init__(self, n_episodes=100, n_win_ticks=195, \n",
        "                 gamma=.9999, epsilon=1.0, epsilon_min=0.01, epsilon_log_decay=0.995, alpha=0.01, alpha_decay=0.01, \n",
        "                 batch_size=32):\n",
        "        self.env = Trader()\n",
        "        self.memory = deque(maxlen=100000)\n",
        "        self.gamma = gamma\n",
        "        self.epsilon = epsilon\n",
        "        self.epsilon_min = epsilon_min\n",
        "        self.epsilon_decay = epsilon_log_decay\n",
        "        self.alpha = alpha\n",
        "        self.alpha_decay = alpha_decay\n",
        "        self.n_episodes = n_episodes\n",
        "        self.n_win_ticks = n_win_ticks\n",
        "        self.batch_size = batch_size\n",
        "\n",
        "        tf.reset_default_graph()\n",
        "        \n",
        "        inputs = Input(shape=(60*24*30*7+2,))\n",
        "        print(inputs)\n",
        "        t0 = Lambda(lambda i:i[:,:-2])(inputs)\n",
        "        c = Lambda(lambda i:i[:,-2:])(inputs)\n",
        "        t = Reshape((60*24*30,7))(t0)\n",
        "        print(t,c)\n",
        "        lstm = LSTM(7, return_sequences=False)(t)\n",
        "        print(lstm)\n",
        "        h1 = Dense(1)(lstm)\n",
        "        print(h1,c)\n",
        "        outputs = Dense(len(self.env.action_space), 'relu')(k.layers.concatenate([h1, c],1))\n",
        "        print(outputs)\n",
        "        self.model = k.models.Model(inputs=inputs, outputs=outputs)\n",
        "        self.model.compile(optimizer='Adam', loss='mse')                               \n",
        "        print(self.model.summary())\n",
        "        \n",
        "    def preprocess_state(self, s):\n",
        "        time, coins, cash = s\n",
        "        unzip = np.append(bitstamp[time-60*24*30 : time].flatten(), [coins, cash])\n",
        "        state = unzip.reshape(1,60*24*30*7+2) # 1 batch of input\n",
        "        return state                                                        \n",
        "    def choose_action(self, state, epsilon, e):\n",
        "        state = self.preprocess_state(state)\n",
        "        return random.choice(self.env.action_space) if (np.random.random() <= epsilon) else np.argmax(self.model.predict(state)[0])\n",
        "\n",
        "    def get_epsilon(self, t):\n",
        "        return max(self.epsilon_min, min(self.epsilon, 1.0 - math.log10((t + 1) * self.epsilon_decay)))\n",
        "    \n",
        "    def replay(self, batch_size):\n",
        "        minibatch = random.sample(self.memory, min(len(self.memory), batch_size))\n",
        "        xs, ys = [],[]\n",
        "        for state, action, reward, next_state, done in minibatch:\n",
        "            state = self.preprocess_state(state)\n",
        "            next_state = self.preprocess_state(next_state)\n",
        "            if done:\n",
        "                target = reward\n",
        "            else:\n",
        "                target = reward + self.gamma * np.max(self.model.predict(next_state)[0])\n",
        "            Q = self.model.predict(state)\n",
        "            Q[0][action] = target\n",
        "            xs.append(state[0])\n",
        "            ys.append(Q[0])\n",
        "            print(len(xs),'batches loaded')\n",
        "        self.model.fit(np.array(xs), np.array(ys), epochs=1)\n",
        "\n",
        "        if self.epsilon > self.epsilon_min:\n",
        "            self.epsilon *= self.epsilon_decay\n",
        "\n",
        "    def run(self):\n",
        "        scores = deque(maxlen=100)\n",
        "        for e in range(self.n_episodes):\n",
        "            state = self.env.reset()\n",
        "            done = False\n",
        "            rewards = 0\n",
        "            t=0\n",
        "            print('playing')\n",
        "            while not done:\n",
        "                if t%100==0:\n",
        "                    print(t,'turns played')\n",
        "                action = self.choose_action(state, self.get_epsilon(e), e)\n",
        "                next_state, reward, done = self.env.step(action)\n",
        "                self.memory.append((state, action, reward, next_state, done))\n",
        "                state = next_state\n",
        "                rewards += reward\n",
        "                t += 1\n",
        "            \n",
        "            print(self.env.time, self.env.t, self.env.cash, self.env.coins, self.env.asset)\n",
        "            scores.append(rewards)\n",
        "            mean_score = np.mean(scores)\n",
        "            if mean_score >= self.n_win_ticks and e >= 100:\n",
        "                if not self.quiet: print('Ran {} episodes. Solved after {} trials ✔'.format(e, e - 100))\n",
        "                return e - 100\n",
        "            print('[Episode {}] - Mean survival time over last 100 episodes was {} ticks.'.format(e, mean_score))\n",
        "            print('replaying')\n",
        "            self.replay(self.batch_size)\n",
        "        return e\n",
        "\n",
        "agent = DQNTrader()\n",
        "agent.run()"
      ],
      "execution_count": 0,
      "outputs": [
        {
          "output_type": "stream",
          "text": [
            "Tensor(\"input_1:0\", shape=(?, 302402), dtype=float32)\n",
            "Tensor(\"reshape/Reshape:0\", shape=(?, 43200, 7), dtype=float32) Tensor(\"lambda_1/strided_slice:0\", shape=(?, 2), dtype=float32)\n",
            "Tensor(\"lstm/TensorArrayReadV3:0\", shape=(?, 7), dtype=float32)\n",
            "Tensor(\"dense/BiasAdd:0\", shape=(?, 1), dtype=float32) Tensor(\"lambda_1/strided_slice:0\", shape=(?, 2), dtype=float32)\n",
            "Tensor(\"dense_1/Relu:0\", shape=(?, 17), dtype=float32)\n",
            "__________________________________________________________________________________________________\n",
            "Layer (type)                    Output Shape         Param #     Connected to                     \n",
            "==================================================================================================\n",
            "input_1 (InputLayer)            (None, 302402)       0                                            \n",
            "__________________________________________________________________________________________________\n",
            "lambda (Lambda)                 (None, 302400)       0           input_1[0][0]                    \n",
            "__________________________________________________________________________________________________\n",
            "reshape (Reshape)               (None, 43200, 7)     0           lambda[0][0]                     \n",
            "__________________________________________________________________________________________________\n",
            "lstm (LSTM)                     (None, 7)            420         reshape[0][0]                    \n",
            "__________________________________________________________________________________________________\n",
            "dense (Dense)                   (None, 1)            8           lstm[0][0]                       \n",
            "__________________________________________________________________________________________________\n",
            "lambda_1 (Lambda)               (None, 2)            0           input_1[0][0]                    \n",
            "__________________________________________________________________________________________________\n",
            "concatenate (Concatenate)       (None, 3)            0           dense[0][0]                      \n",
            "                                                                 lambda_1[0][0]                   \n",
            "__________________________________________________________________________________________________\n",
            "dense_1 (Dense)                 (None, 17)           68          concatenate[0][0]                \n",
            "==================================================================================================\n",
            "Total params: 496\n",
            "Trainable params: 496\n",
            "Non-trainable params: 0\n",
            "__________________________________________________________________________________________________\n",
            "None\n",
            "playing\n",
            "0 turns played\n",
            "741134 61 9018.113762070578 8.135078609726012 99268.51315679876\n",
            "[Episode 0] - Mean survival time over last 100 episodes was -731.4868432012445 ticks.\n",
            "replaying\n",
            "1 batches loaded\n",
            "2 batches loaded\n",
            "3 batches loaded\n",
            "4 batches loaded\n",
            "5 batches loaded\n",
            "6 batches loaded\n",
            "7 batches loaded\n",
            "8 batches loaded\n",
            "9 batches loaded\n",
            "10 batches loaded\n",
            "11 batches loaded\n",
            "12 batches loaded\n",
            "13 batches loaded\n",
            "14 batches loaded\n",
            "15 batches loaded\n",
            "16 batches loaded\n",
            "17 batches loaded\n",
            "18 batches loaded\n",
            "19 batches loaded\n",
            "20 batches loaded\n",
            "21 batches loaded\n",
            "22 batches loaded\n",
            "23 batches loaded\n",
            "24 batches loaded\n",
            "25 batches loaded\n",
            "26 batches loaded\n",
            "27 batches loaded\n",
            "28 batches loaded\n",
            "29 batches loaded\n",
            "30 batches loaded\n",
            "31 batches loaded\n",
            "32 batches loaded\n",
            "Epoch 1/1\n",
            "32/32 [==============================] - 123s 4s/step - loss: 38456616.0000\n",
            "playing\n",
            "0 turns played\n"
          ],
          "name": "stdout"
        }
      ]
    },
    {
      "metadata": {
        "colab_type": "code",
        "id": "9IcK8yU_fVUY",
        "colab": {}
      },
      "cell_type": "code",
      "source": [
        "time=60*24*30\n",
        "np.append(bitstamp[time-60*24*30 : time+1].flatten(), [1, 1]).shape"
      ],
      "execution_count": 0,
      "outputs": []
    },
    {
      "metadata": {
        "colab_type": "code",
        "id": "aVoUTGqnsIjo",
        "colab": {}
      },
      "cell_type": "code",
      "source": [
        "a=np.array([1,2,3])"
      ],
      "execution_count": 0,
      "outputs": []
    },
    {
      "metadata": {
        "colab_type": "code",
        "id": "54rOx214sPR-",
        "outputId": "455df7d2-b27b-40c6-8c1f-7e248746abbf",
        "colab": {
          "base_uri": "https://localhost:8080/",
          "height": 34
        }
      },
      "cell_type": "code",
      "source": [
        "a.shape"
      ],
      "execution_count": 0,
      "outputs": [
        {
          "output_type": "execute_result",
          "data": {
            "text/plain": [
              "(3,)"
            ]
          },
          "metadata": {
            "tags": []
          },
          "execution_count": 38
        }
      ]
    },
    {
      "metadata": {
        "colab_type": "code",
        "id": "gdLm_-YXsPUu",
        "outputId": "47684185-4f5b-4443-deda-7855076de2e3",
        "colab": {
          "base_uri": "https://localhost:8080/",
          "height": 34
        }
      },
      "cell_type": "code",
      "source": [
        "b=a\n",
        "b.shape"
      ],
      "execution_count": 0,
      "outputs": [
        {
          "output_type": "execute_result",
          "data": {
            "text/plain": [
              "(3,)"
            ]
          },
          "metadata": {
            "tags": []
          },
          "execution_count": 39
        }
      ]
    },
    {
      "metadata": {
        "colab_type": "code",
        "id": "zFVvPBuhsPXO",
        "outputId": "5779463f-69a0-487c-f911-ec51a4ef1d4c",
        "colab": {
          "base_uri": "https://localhost:8080/",
          "height": 34
        }
      },
      "cell_type": "code",
      "source": [
        "[a,b]"
      ],
      "execution_count": 0,
      "outputs": [
        {
          "output_type": "execute_result",
          "data": {
            "text/plain": [
              "[array([1, 2, 3]), array([1, 2, 3])]"
            ]
          },
          "metadata": {
            "tags": []
          },
          "execution_count": 40
        }
      ]
    },
    {
      "metadata": {
        "colab_type": "code",
        "id": "staypQoUsPZu",
        "outputId": "69e090bc-760c-4367-8685-51208143e981",
        "colab": {
          "base_uri": "https://localhost:8080/",
          "height": 34
        }
      },
      "cell_type": "code",
      "source": [
        "np.array([a,b]).shape"
      ],
      "execution_count": 0,
      "outputs": [
        {
          "output_type": "execute_result",
          "data": {
            "text/plain": [
              "(2, 3)"
            ]
          },
          "metadata": {
            "tags": []
          },
          "execution_count": 42
        }
      ]
    },
    {
      "metadata": {
        "colab_type": "code",
        "id": "_iDTwQzcsPcO",
        "colab": {}
      },
      "cell_type": "code",
      "source": [
        "a='''\n",
        "0.7011469235902934\n",
        "0.7011469235902934\n",
        "0.7011469235902934\n",
        "0.7011469235902934\n",
        "0.7011469235902934\n",
        "0.7011469235902934\n",
        "0.7011469235902934\n",
        "0.7011469235902934\n",
        "0.7011469235902934\n",
        "0.7011469235902934\n",
        "0.7011469235902934\n",
        "0.7011469235902934\n",
        "0.7011469235902934\n",
        "0.7011469235902934\n",
        "0.7011469235902934\n",
        "0.7011469235902934\n",
        "0.7011469235902934\n",
        "0.7011469235902934\n",
        "0.7011469235902934\n",
        "0.7011469235902934\n",
        "0.7011469235902934\n",
        "0.7011469235902934\n",
        "0.7011469235902934\n",
        "0.7011469235902934\n",
        "0.7011469235902934\n",
        "0.7011469235902934\n",
        "0.7011469235902934\n",
        "0.7011469235902934\n",
        "0.7011469235902934\n",
        "0.7011469235902934\n",
        "0.7011469235902934\n",
        "0.7011469235902934\n",
        "0.7011469235902934\n",
        "0.7011469235902934\n",
        "0.7011469235902934\n",
        "0.7011469235902934\n",
        "0.7011469235902934\n",
        "0.7011469235902934\n",
        "0.7011469235902934\n",
        "0.7011469235902934\n",
        "0.7011469235902934\n",
        "0.7011469235902934\n",
        "0.7011469235902934\n",
        "0.7011469235902934\n",
        "0.7011469235902934\n",
        "0.7011469235902934\n",
        "0.7011469235902934\n",
        "0.7011469235902934\n",
        "0.7011469235902934\n",
        "0.7011469235902934\n",
        "0.7011469235902934\n",
        "0.7011469235902934\n",
        "0.7011469235902934\n",
        "0.7011469235902934\n",
        "0.7011469235902934\n",
        "0.7011469235902934\n",
        "0.7011469235902934\n",
        "0.7011469235902934\n",
        "0.7011469235902934\n",
        "0.7011469235902934\n",
        "0.7011469235902934\n",
        "0.7011469235902934\n",
        "0.7011469235902934\n",
        "0.7011469235902934\n",
        "0.7011469235902934\n",
        "0.7011469235902934\n",
        "0.7011469235902934\n",
        "0.7011469235902934\n",
        "0.7011469235902934\n",
        "0.7011469235902934\n",
        "0.7011469235902934\n",
        "0.7011469235902934\n",
        "0.7011469235902934\n",
        "0.7011469235902934\n",
        "0.7011469235902934\n",
        "0.7011469235902934\n",
        "0.7011469235902934\n",
        "0.7011469235902934\n",
        "0.7011469235902934\n",
        "0.7011469235902934\n",
        "0.7011469235902934\n",
        "0.7011469235902934\n",
        "0.7011469235902934\n",
        "0.7011469235902934\n",
        "0.7011469235902934\n",
        "0.7011469235902934\n",
        "0.7011469235902934\n",
        "0.7011469235902934\n",
        "0.7011469235902934\n",
        "0.7011469235902934\n",
        "0.7011469235902934\n",
        "0.7011469235902934\n",
        "0.7011469235902934\n",
        "0.7011469235902934\n",
        "0.7011469235902934\n",
        "0.7011469235902934\n",
        "0.7011469235902934\n",
        "0.7011469235902934\n",
        "0.7011469235902934\n",
        "0.7011469235902934\n",
        "0.7011469235902934\n",
        "0.7011469235902934\n",
        "0.7011469235902934\n",
        "0.7011469235902934\n",
        "0.7011469235902934\n",
        "0.7011469235902934\n",
        "0.7011469235902934\n",
        "0.7011469235902934\n",
        "0.7011469235902934\n",
        "0.7011469235902934\n",
        "0.7011469235902934\n",
        "0.7011469235902934\n",
        "0.7011469235902934\n",
        "0.7011469235902934\n",
        "0.7011469235902934\n",
        "0.7011469235902934\n",
        "0.7011469235902934\n",
        "0.7011469235902934\n",
        "0.7011469235902934\n",
        "0.7011469235902934\n",
        "0.7011469235902934\n",
        "0.7011469235902934\n",
        "0.7011469235902934\n",
        "0.7011469235902934\n",
        "0.7011469235902934\n",
        "0.7011469235902934\n",
        "0.7011469235902934\n",
        "0.7011469235902934\n",
        "0.7011469235902934\n",
        "0.7011469235902934\n",
        "0.7011469235902934\n",
        "0.7011469235902934\n",
        "0.7011469235902934\n",
        "0.7011469235902934\n",
        "0.7011469235902934\n",
        "0.7011469235902934\n",
        "0.7011469235902934\n",
        "0.7011469235902934\n",
        "0.7011469235902934\n",
        "0.7011469235902934\n",
        "0.7011469235902934\n",
        "0.7011469235902934\n",
        "0.7011469235902934\n",
        "0.7011469235902934\n",
        "0.7011469235902934\n",
        "0.7011469235902934\n",
        "0.7011469235902934\n",
        "0.7011469235902934\n",
        "0.7011469235902934\n",
        "0.7011469235902934\n",
        "0.7011469235902934\n",
        "0.7011469235902934\n",
        "0.7011469235902934\n",
        "0.7011469235902934\n",
        "0.7011469235902934\n",
        "0.7011469235902934\n",
        "0.7011469235902934\n",
        "0.7011469235902934\n",
        "0.7011469235902934\n",
        "0.7011469235902934\n",
        "0.7011469235902934\n",
        "0.7011469235902934\n",
        "0.7011469235902934\n",
        "0.7011469235902934\n",
        "0.7011469235902934\n",
        "0.7011469235902934\n",
        "0.7011469235902934\n",
        "0.7011469235902934\n",
        "0.7011469235902934\n",
        "0.7011469235902934\n",
        "0.7011469235902934\n",
        "0.7011469235902934\n",
        "0.7011469235902934\n",
        "0.7011469235902934\n",
        "0.7011469235902934\n",
        "0.7011469235902934\n",
        "0.7011469235902934\n",
        "0.7011469235902934\n",
        "0.7011469235902934\n",
        "0.7011469235902934\n",
        "0.7011469235902934\n",
        "0.7011469235902934\n",
        "0.7011469235902934\n",
        "0.7011469235902934\n",
        "0.7011469235902934\n",
        "0.7011469235902934\n",
        "0.7011469235902934\n",
        "0.7011469235902934\n",
        "0.7011469235902934\n",
        "0.7011469235902934\n",
        "0.7011469235902934\n",
        "0.7011469235902934\n",
        "0.7011469235902934\n",
        "0.7011469235902934\n",
        "0.7011469235902934\n",
        "0.7011469235902934\n",
        "0.7011469235902934\n",
        "0.7011469235902934\n",
        "0.7011469235902934\n",
        "0.7011469235902934\n",
        "0.7011469235902934\n",
        "0.7011469235902934\n",
        "0.7011469235902934\n",
        "0.7011469235902934\n",
        "0.7011469235902934\n",
        "0.7011469235902934\n",
        "0.7011469235902934\n",
        "0.7011469235902934\n",
        "0.7011469235902934\n",
        "0.7011469235902934\n",
        "0.7011469235902934\n",
        "0.7011469235902934\n",
        "0.7011469235902934\n",
        "0.7011469235902934\n",
        "0.7011469235902934\n",
        "0.7011469235902934\n",
        "0.7011469235902934\n",
        "0.7011469235902934\n",
        "0.7011469235902934\n",
        "0.7011469235902934\n",
        "0.7011469235902934\n",
        "0.7011469235902934\n",
        "0.7011469235902934\n",
        "0.7011469235902934\n",
        "0.7011469235902934\n",
        "0.7011469235902934\n",
        "0.7011469235902934\n",
        "0.7011469235902934\n",
        "0.7011469235902934\n",
        "0.7011469235902934\n",
        "0.7011469235902934\n",
        "0.7011469235902934\n",
        "0.7011469235902934\n",
        "0.7011469235902934\n",
        "0.7011469235902934\n",
        "0.7011469235902934\n",
        "0.7011469235902934\n",
        "0.7011469235902934\n",
        "0.7011469235902934\n",
        "0.7011469235902934\n",
        "0.7011469235902934\n",
        "0.7011469235902934\n",
        "0.7011469235902934\n",
        "0.7011469235902934\n",
        "0.7011469235902934\n",
        "0.7011469235902934\n",
        "0.7011469235902934\n",
        "0.7011469235902934\n",
        "0.7011469235902934\n",
        "0.7011469235902934\n",
        "0.7011469235902934\n",
        "0.7011469235902934\n",
        "0.7011469235902934\n",
        "0.7011469235902934\n",
        "0.7011469235902934\n",
        "0.7011469235902934\n",
        "0.7011469235902934\n",
        "0.7011469235902934\n",
        "0.7011469235902934\n",
        "0.7011469235902934\n",
        "0.7011469235902934\n",
        "0.7011469235902934\n",
        "0.7011469235902934\n",
        "0.7011469235902934\n",
        "0.7011469235902934\n",
        "0.7011469235902934\n",
        "0.7011469235902934\n",
        "0.7011469235902934\n",
        "0.7011469235902934\n",
        "0.7011469235902934\n",
        "0.7011469235902934\n",
        "0.7011469235902934\n",
        "0.7011469235902934\n",
        "0.7011469235902934\n",
        "0.7011469235902934\n",
        "0.7011469235902934\n",
        "0.7011469235902934\n",
        "0.7011469235902934\n",
        "0.7011469235902934\n",
        "0.7011469235902934\n",
        "0.7011469235902934\n",
        "0.7011469235902934\n",
        "0.7011469235902934\n",
        "0.7011469235902934\n",
        "0.7011469235902934\n",
        "0.7011469235902934\n",
        "0.7011469235902934\n",
        "0.7011469235902934\n",
        "0.7011469235902934\n",
        "0.7011469235902934\n",
        "0.7011469235902934\n",
        "0.7011469235902934\n",
        "0.7011469235902934\n",
        "0.7011469235902934\n",
        "0.7011469235902934\n",
        "0.7011469235902934\n",
        "0.7011469235902934\n",
        "0.7011469235902934\n",
        "0.7011469235902934\n",
        "0.7011469235902934\n",
        "0.7011469235902934\n",
        "0.7011469235902934\n",
        "0.7011469235902934\n",
        "0.7011469235902934\n",
        "0.7011469235902934\n",
        "0.7011469235902934\n",
        "0.7011469235902934\n",
        "0.7011469235902934\n",
        "0.7011469235902934\n",
        "0.7011469235902934\n",
        "0.7011469235902934\n",
        "0.7011469235902934\n",
        "0.7011469235902934\n",
        "0.7011469235902934\n",
        "0.7011469235902934\n",
        "0.7011469235902934\n",
        "0.7011469235902934\n",
        "0.7011469235902934\n",
        "0.7011469235902934\n",
        "0.7011469235902934\n",
        "0.7011469235902934\n",
        "0.7011469235902934\n",
        "0.7011469235902934\n",
        "0.7011469235902934\n",
        "0.7011469235902934\n",
        "0.7011469235902934\n",
        "0.7011469235902934\n",
        "0.7011469235902934\n",
        "0.7011469235902934\n",
        "0.7011469235902934\n",
        "0.7011469235902934\n",
        "0.7011469235902934\n",
        "0.7011469235902934\n",
        "0.7011469235902934\n",
        "0.7011469235902934\n",
        "0.7011469235902934\n",
        "0.7011469235902934\n",
        "0.7011469235902934\n",
        "0.7011469235902934\n",
        "0.7011469235902934\n",
        "0.7011469235902934\n",
        "0.7011469235902934\n",
        "0.7011469235902934\n",
        "0.7011469235902934\n",
        "0.7011469235902934\n",
        "0.7011469235902934\n",
        "0.7011469235902934\n",
        "0.7011469235902934\n",
        "0.7011469235902934\n",
        "0.7011469235902934\n",
        "0.7011469235902934\n",
        "0.7011469235902934\n",
        "0.7011469235902934\n",
        "0.7011469235902934\n",
        "'''.split('\\n')"
      ],
      "execution_count": 0,
      "outputs": []
    },
    {
      "metadata": {
        "colab_type": "code",
        "id": "lFrUWNSafVUh",
        "colab": {},
        "outputId": "c7d89020-ff2e-4154-8565-1f115f0df54f"
      },
      "cell_type": "code",
      "source": [
        "len(a)"
      ],
      "execution_count": 0,
      "outputs": [
        {
          "output_type": "execute_result",
          "data": {
            "text/plain": [
              "356"
            ]
          },
          "metadata": {
            "tags": []
          },
          "execution_count": 93
        }
      ]
    },
    {
      "metadata": {
        "id": "ghJfLHYDAZQX",
        "colab_type": "code",
        "colab": {}
      },
      "cell_type": "code",
      "source": [
        ""
      ],
      "execution_count": 0,
      "outputs": []
    }
  ]
}