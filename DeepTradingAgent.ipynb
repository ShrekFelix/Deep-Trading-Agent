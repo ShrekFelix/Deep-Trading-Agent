{
 "cells": [
  {
   "cell_type": "code",
   "execution_count": 2,
   "metadata": {
    "colab": {},
    "colab_type": "code",
    "id": "2sNvsc8OaKc-"
   },
   "outputs": [],
   "source": [
    "%matplotlib inline\n",
    "import tensorflow as tf\n",
    "import matplotlib.pyplot as plt\n",
    "import pandas as pd\n",
    "import numpy as np\n",
    "import random\n",
    "import os\n",
    "import math\n",
    "from collections import deque\n",
    "import pickle"
   ]
  },
  {
   "cell_type": "code",
   "execution_count": 94,
   "metadata": {
    "colab": {
     "base_uri": "https://localhost:8080/",
     "height": 204
    },
    "colab_type": "code",
    "id": "2RwoFIb_dbIF",
    "outputId": "4af22615-c367-44c1-e828-2e4b819cfa88"
   },
   "outputs": [
    {
     "data": {
      "text/html": [
       "<div>\n",
       "<style scoped>\n",
       "    .dataframe tbody tr th:only-of-type {\n",
       "        vertical-align: middle;\n",
       "    }\n",
       "\n",
       "    .dataframe tbody tr th {\n",
       "        vertical-align: top;\n",
       "    }\n",
       "\n",
       "    .dataframe thead th {\n",
       "        text-align: right;\n",
       "    }\n",
       "</style>\n",
       "<table border=\"1\" class=\"dataframe\">\n",
       "  <thead>\n",
       "    <tr style=\"text-align: right;\">\n",
       "      <th></th>\n",
       "      <th>Open</th>\n",
       "      <th>High</th>\n",
       "      <th>Low</th>\n",
       "      <th>Close</th>\n",
       "      <th>Volume_(BTC)</th>\n",
       "      <th>Volume_(Currency)</th>\n",
       "      <th>Weighted_Price</th>\n",
       "    </tr>\n",
       "  </thead>\n",
       "  <tbody>\n",
       "    <tr>\n",
       "      <th>2500000</th>\n",
       "      <td>609.87</td>\n",
       "      <td>609.87</td>\n",
       "      <td>609.41</td>\n",
       "      <td>609.41</td>\n",
       "      <td>4.200000</td>\n",
       "      <td>2560.068344</td>\n",
       "      <td>609.540082</td>\n",
       "    </tr>\n",
       "    <tr>\n",
       "      <th>2500001</th>\n",
       "      <td>609.87</td>\n",
       "      <td>609.87</td>\n",
       "      <td>609.41</td>\n",
       "      <td>609.41</td>\n",
       "      <td>4.200000</td>\n",
       "      <td>2560.068344</td>\n",
       "      <td>609.540082</td>\n",
       "    </tr>\n",
       "    <tr>\n",
       "      <th>2500002</th>\n",
       "      <td>609.87</td>\n",
       "      <td>609.87</td>\n",
       "      <td>609.41</td>\n",
       "      <td>609.41</td>\n",
       "      <td>4.200000</td>\n",
       "      <td>2560.068344</td>\n",
       "      <td>609.540082</td>\n",
       "    </tr>\n",
       "    <tr>\n",
       "      <th>2500003</th>\n",
       "      <td>610.97</td>\n",
       "      <td>610.97</td>\n",
       "      <td>610.97</td>\n",
       "      <td>610.97</td>\n",
       "      <td>0.018135</td>\n",
       "      <td>11.080002</td>\n",
       "      <td>610.970000</td>\n",
       "    </tr>\n",
       "    <tr>\n",
       "      <th>2500004</th>\n",
       "      <td>610.97</td>\n",
       "      <td>610.97</td>\n",
       "      <td>610.97</td>\n",
       "      <td>610.97</td>\n",
       "      <td>0.018135</td>\n",
       "      <td>11.080002</td>\n",
       "      <td>610.970000</td>\n",
       "    </tr>\n",
       "  </tbody>\n",
       "</table>\n",
       "</div>"
      ],
      "text/plain": [
       "           Open    High     Low   Close  Volume_(BTC)  Volume_(Currency)  \\\n",
       "2500000  609.87  609.87  609.41  609.41      4.200000        2560.068344   \n",
       "2500001  609.87  609.87  609.41  609.41      4.200000        2560.068344   \n",
       "2500002  609.87  609.87  609.41  609.41      4.200000        2560.068344   \n",
       "2500003  610.97  610.97  610.97  610.97      0.018135          11.080002   \n",
       "2500004  610.97  610.97  610.97  610.97      0.018135          11.080002   \n",
       "\n",
       "         Weighted_Price  \n",
       "2500000      609.540082  \n",
       "2500001      609.540082  \n",
       "2500002      609.540082  \n",
       "2500003      610.970000  \n",
       "2500004      610.970000  "
      ]
     },
     "execution_count": 94,
     "metadata": {},
     "output_type": "execute_result"
    }
   ],
   "source": [
    "bitstamp = pd.read_csv('bitstampUSD_1-min_data_2012-01-01_to_2018-06-27.csv')\n",
    "bitstamp.drop(labels='Timestamp', axis=1, inplace=True)\n",
    "bitstamp = bitstamp[2500000:]\n",
    "bitstamp.head()"
   ]
  },
  {
   "cell_type": "code",
   "execution_count": 58,
   "metadata": {},
   "outputs": [
    {
     "data": {
      "text/plain": [
       "(905857, 7)"
      ]
     },
     "execution_count": 58,
     "metadata": {},
     "output_type": "execute_result"
    }
   ],
   "source": [
    "bitstamp.shape"
   ]
  },
  {
   "cell_type": "code",
   "execution_count": 9,
   "metadata": {},
   "outputs": [
    {
     "data": {
      "text/plain": [
       "(365123, 7)"
      ]
     },
     "execution_count": 9,
     "metadata": {},
     "output_type": "execute_result"
    }
   ],
   "source": [
    "bitstamp[bitstamp.Close-bitstamp.Open>0].shape"
   ]
  },
  {
   "cell_type": "code",
   "execution_count": 59,
   "metadata": {
    "colab": {},
    "colab_type": "code",
    "id": "q_RoSGgXlFZt"
   },
   "outputs": [],
   "source": [
    "bitstamp = np.array(bitstamp)"
   ]
  },
  {
   "cell_type": "code",
   "execution_count": 60,
   "metadata": {
    "colab": {
     "base_uri": "https://localhost:8080/",
     "height": 251
    },
    "colab_type": "code",
    "id": "fPRPFlmMfVUE",
    "outputId": "11a657bc-3417-47b3-8a24-157aed14b9d3"
   },
   "outputs": [
    {
     "data": {
      "text/plain": [
       "array([[  6.09870000e+02,   6.09870000e+02,   6.09410000e+02, ...,\n",
       "          4.20000000e+00,   2.56006834e+03,   6.09540082e+02],\n",
       "       [  6.09870000e+02,   6.09870000e+02,   6.09410000e+02, ...,\n",
       "          4.20000000e+00,   2.56006834e+03,   6.09540082e+02],\n",
       "       [  6.09870000e+02,   6.09870000e+02,   6.09410000e+02, ...,\n",
       "          4.20000000e+00,   2.56006834e+03,   6.09540082e+02],\n",
       "       ..., \n",
       "       [  6.07915000e+03,   6.08553000e+03,   6.07010000e+03, ...,\n",
       "          5.17498402e+00,   3.14474231e+04,   6.07681550e+03],\n",
       "       [  6.08221000e+03,   6.08686000e+03,   6.06800000e+03, ...,\n",
       "          1.44823012e+01,   8.80003803e+04,   6.07640864e+03],\n",
       "       [  6.07399000e+03,   6.07541000e+03,   6.06456000e+03, ...,\n",
       "          2.35110041e+01,   1.42706804e+05,   6.06978771e+03]])"
      ]
     },
     "execution_count": 60,
     "metadata": {},
     "output_type": "execute_result"
    }
   ],
   "source": [
    "bitstamp"
   ]
  },
  {
   "cell_type": "code",
   "execution_count": 28,
   "metadata": {
    "colab": {
     "base_uri": "https://localhost:8080/",
     "height": 35
    },
    "colab_type": "code",
    "id": "MLMFLYFKkkdk",
    "outputId": "9aa3d08b-3c9b-4eca-ab67-fc34db5d0f87"
   },
   "outputs": [
    {
     "data": {
      "text/plain": [
       "(905857, 7)"
      ]
     },
     "execution_count": 28,
     "metadata": {
      "tags": []
     },
     "output_type": "execute_result"
    }
   ],
   "source": [
    "bitstamp.shape"
   ]
  },
  {
   "cell_type": "code",
   "execution_count": null,
   "metadata": {
    "colab": {},
    "colab_type": "code",
    "id": "_ya1v2wWfVUI"
   },
   "outputs": [],
   "source": [
    "import tensorflow.keras as k"
   ]
  },
  {
   "cell_type": "code",
   "execution_count": 33,
   "metadata": {
    "colab": {},
    "colab_type": "code",
    "id": "RJY3jwYeLAT0"
   },
   "outputs": [],
   "source": [
    "from tensorflow.keras.models import model_from_json"
   ]
  },
  {
   "cell_type": "code",
   "execution_count": null,
   "metadata": {
    "colab": {},
    "colab_type": "code",
    "id": "GCE1QZe8fVUK"
   },
   "outputs": [],
   "source": [
    "from tensorflow.keras.layers import *"
   ]
  },
  {
   "cell_type": "code",
   "execution_count": null,
   "metadata": {
    "colab": {},
    "colab_type": "code",
    "id": "k30Y1vjji5Nk"
   },
   "outputs": [],
   "source": [
    "class Trader:\n",
    "    def __init__(self, max_turns=60*24, fee_rate=.0005):\n",
    "        self.action_space = [i for i in range(17)]\n",
    "        self.max_turns = max_turns\n",
    "        self.fee_rate = fee_rate\n",
    "        self.reset()\n",
    "        \n",
    "    def reset(self):\n",
    "        self.t = 0\n",
    "        self.cash = 100000\n",
    "        self.coins = 0\n",
    "        self.time = random.randrange(60*24*60, len(bitstamp) - 60*24*60)\n",
    "        self.done = False\n",
    "        s = self.t+self.time, self.coins, self.cash\n",
    "        return s\n",
    "\n",
    "    def step(self, action):\n",
    "        if self.t == self.max_turns:\n",
    "            self.done = True\n",
    "        price_open = bitstamp[self.time + self.t][0]\n",
    "        price_close = bitstamp[self.time + self.t + 1][0]\n",
    "        prev_asset = price_open * self.coins + self.cash\n",
    "        percent = action-8\n",
    "        if percent < 0:\n",
    "            coins_sold = self.coins * (-percent) * .1\n",
    "            self.cash += coins_sold * price_open * (1-self.fee_rate)\n",
    "            self.coins -= coins_sold\n",
    "\n",
    "        elif percent > 0:\n",
    "            money_spent = self.cash * percent * .1 \n",
    "            self.coins += money_spent * (1-self.fee_rate) / price_open\n",
    "            self.cash -= money_spent\n",
    "            \n",
    "        r = price_close * self.coins + self.cash - prev_asset\n",
    "        s = self.t+self.time, self.coins, self.cash\n",
    "        self.asset = price_close * self.coins + self.cash\n",
    "        if self.asset < 60000:\n",
    "            self.done = True\n",
    "            \n",
    "        self.t += 1\n",
    "        return s, r, self.done"
   ]
  },
  {
   "cell_type": "code",
   "execution_count": null,
   "metadata": {
    "colab": {},
    "colab_type": "code",
    "id": "76EzOT_DiAyD"
   },
   "outputs": [],
   "source": [
    "class DQNTrader():\n",
    "    def __init__(self, n_episodes=100, n_win_ticks=195, \n",
    "                 gamma=.9999, epsilon=1.0, epsilon_min=0.01, epsilon_log_decay=0.995, alpha=0.01, alpha_decay=0.01, \n",
    "                 batch_size=64):\n",
    "        self.env = Trader()\n",
    "        self.memory = deque(maxlen=100000)\n",
    "        self.gamma = gamma\n",
    "        self.epsilon = epsilon\n",
    "        self.epsilon_min = epsilon_min\n",
    "        self.epsilon_decay = epsilon_log_decay\n",
    "        self.alpha = alpha\n",
    "        self.alpha_decay = alpha_decay\n",
    "        self.n_episodes = n_episodes\n",
    "        self.n_win_ticks = n_win_ticks\n",
    "        self.batch_size = batch_size\n",
    "\n",
    "        tf.reset_default_graph()\n",
    "        \n",
    "        inputs = Input(shape=(60*24*30*7+2,))\n",
    "        print(inputs)\n",
    "        t0 = Lambda(lambda i:i[:,:-2])(inputs)\n",
    "        c = Lambda(lambda i:i[:,-2:])(inputs)\n",
    "        t = Reshape((60*24*30,7))(t0)\n",
    "        print(t,c)\n",
    "        lstm = CuDNNLSTM(7, return_sequences=False)(t)\n",
    "        print(lstm)\n",
    "        h1 = Dense(1)(lstm)\n",
    "        print(h1,c)\n",
    "        outputs = Dense(len(self.env.action_space), 'relu')(k.layers.concatenate([h1, c],1))\n",
    "        print(outputs)\n",
    "        self.model = k.models.Model(inputs=inputs, outputs=outputs)\n",
    "        self.model.compile(optimizer='Adam', loss='mse')                               \n",
    "        print(self.model.summary())\n",
    "        \n",
    "    def preprocess_state(self, s):\n",
    "        time, coins, cash = s\n",
    "        unzip = np.append(bitstamp[time-60*24*30 : time].flatten(), [coins, cash])\n",
    "        state = unzip.reshape(1,60*24*30*7+2) # 1 batch of input\n",
    "        return state                                                        \n",
    "    def choose_action(self, state, epsilon, e):\n",
    "        state = self.preprocess_state(state)\n",
    "        return random.choice(self.env.action_space) if (np.random.random() <= epsilon) else np.argmax(self.model.predict(state)[0])\n",
    "\n",
    "    def get_epsilon(self, t):\n",
    "        return max(self.epsilon_min, min(self.epsilon, 1.0 - math.log10((t + 1) * self.epsilon_decay)))\n",
    "    \n",
    "    def replay(self, batch_size):\n",
    "        minibatch = random.sample(self.memory, min(len(self.memory), batch_size))\n",
    "        xs, ys = [],[]\n",
    "        for state, action, reward, next_state, done in minibatch:\n",
    "            state = self.preprocess_state(state)\n",
    "            next_state = self.preprocess_state(next_state)\n",
    "            if done:\n",
    "                target = reward\n",
    "            else:\n",
    "                target = reward + self.gamma * np.max(self.model.predict(next_state)[0])\n",
    "            Q = self.model.predict(state)\n",
    "            Q[0][action] = target\n",
    "            xs.append(state[0])\n",
    "            ys.append(Q[0])\n",
    "            if len(xs)%10==0:\n",
    "                print(len(xs),'/',self.batch_size,'batches loaded')\n",
    "        self.model.fit(np.array(xs), np.array(ys), epochs=1)\n",
    "\n",
    "        if self.epsilon > self.epsilon_min:\n",
    "            self.epsilon *= self.epsilon_decay\n",
    "\n",
    "    def run(self):\n",
    "        scores = deque(maxlen=100)\n",
    "        for e in range(self.n_episodes):\n",
    "            state = self.env.reset()\n",
    "            done = False\n",
    "            rewards = 0\n",
    "            t=0\n",
    "            print('playing')\n",
    "            while not done:\n",
    "                if t%100==0:\n",
    "                    print(t,'turns played')\n",
    "                action = self.choose_action(state, self.get_epsilon(e), e)\n",
    "                next_state, reward, done = self.env.step(action)\n",
    "                self.memory.append((state, action, reward, next_state, done))\n",
    "                state = next_state\n",
    "                rewards += reward   \n",
    "                t += 1\n",
    "            \n",
    "            print(self.env.time, self.env.t, self.env.cash, self.env.coins, self.env.asset)\n",
    "            scores.append(rewards)\n",
    "            mean_score = np.mean(scores)\n",
    "            print('[Episode {}] - Mean score over last 100 episodes was {} ticks.'.format(e, mean_score))\n",
    "            print('replaying')\n",
    "            self.replay(self.batch_size)\n",
    "            json_string = self.model.to_json()\n",
    "            print('json:',json_string)\n",
    "            with open('model','w') as f:\n",
    "                f.write(json_string)\n",
    "        return e\n",
    "\n",
    "agent = DQNTrader()\n",
    "agent.run()"
   ]
  },
  {
   "cell_type": "code",
   "execution_count": 30,
   "metadata": {},
   "outputs": [
    {
     "data": {
      "text/plain": [
       "<matplotlib.text.Text at 0x7fac362979b0>"
      ]
     },
     "execution_count": 30,
     "metadata": {},
     "output_type": "execute_result"
    },
    {
     "data": {
      "image/png": "[encoded data removed]",
      "text/plain": [
       "<matplotlib.figure.Figure at 0x7fac36227a90>"
      ]
     },
     "metadata": {
      "needs_background": "light"
     },
     "output_type": "display_data"
    }
   ],
   "source": [
    "plt.plot(loss)\n",
    "plt.title('loss')"
   ]
  },
  {
   "cell_type": "code",
   "execution_count": 85,
   "metadata": {},
   "outputs": [],
   "source": [
    "with open('test.out') as f:\n",
    "    asset_log=[]\n",
    "    rewards_log=[]\n",
    "    for line in f.readlines():\n",
    "        asset, rewards = list(map(float, line.split()))\n",
    "        asset_log.append(asset)\n",
    "        rewards_log.append(rewards)"
   ]
  },
  {
   "cell_type": "code",
   "execution_count": 96,
   "metadata": {},
   "outputs": [],
   "source": [
    "b=np.array(bitstamp)"
   ]
  },
  {
   "cell_type": "code",
   "execution_count": 98,
   "metadata": {},
   "outputs": [
    {
     "data": {
      "text/plain": [
       "<matplotlib.axes._subplots.AxesSubplot at 0x7fac2a7e46d8>"
      ]
     },
     "execution_count": 98,
     "metadata": {},
     "output_type": "execute_result"
    },
    {
     "data": {
      "image/png": "[encoded data removed]",
      "text/plain": [
       "<matplotlib.figure.Figure at 0x7fac3651e0b8>"
      ]
     },
     "metadata": {
      "needs_background": "light"
     },
     "output_type": "display_data"
    }
   ],
   "source": [
    "bitstamp.Weighted_Price.plot()"
   ]
  },
  {
   "cell_type": "code",
   "execution_count": 99,
   "metadata": {},
   "outputs": [
    {
     "data": {
      "text/plain": [
       "[<matplotlib.lines.Line2D at 0x7fac2a6cc518>]"
      ]
     },
     "execution_count": 99,
     "metadata": {},
     "output_type": "execute_result"
    },
    {
     "data": {
      "image/png": "[encoded data removed]",
      "text/plain": [
       "<matplotlib.figure.Figure at 0x7fac2a6a5320>"
      ]
     },
     "metadata": {
      "needs_background": "light"
     },
     "output_type": "display_data"
    }
   ],
   "source": [
    "plt.plot(b[60*24*60:60*24*60+7000,6])"
   ]
  },
  {
   "cell_type": "code",
   "execution_count": 101,
   "metadata": {},
   "outputs": [
    {
     "data": {
      "text/plain": [
       "[<matplotlib.lines.Line2D at 0x7fac2a54b358>]"
      ]
     },
     "execution_count": 101,
     "metadata": {},
     "output_type": "execute_result"
    },
    {
     "data": {
      "image/png": "[encoded data removed]",
      "text/plain": [
       "<matplotlib.figure.Figure at 0x7fac2a756a20>"
      ]
     },
     "metadata": {
      "needs_background": "light"
     },
     "output_type": "display_data"
    }
   ],
   "source": [
    "plt.plot(asset_log, label='agent asset')"
   ]
  },
  {
   "cell_type": "code",
   "execution_count": 109,
   "metadata": {},
   "outputs": [],
   "source": [
    "prices=b[60*24*60:60*24*60+7000,6]"
   ]
  },
  {
   "cell_type": "code",
   "execution_count": 110,
   "metadata": {},
   "outputs": [],
   "source": [
    "prices = (prices-prices.mean())/prices.std()"
   ]
  },
  {
   "cell_type": "code",
   "execution_count": 111,
   "metadata": {},
   "outputs": [
    {
     "data": {
      "text/plain": [
       "9.7445860904242312e-15"
      ]
     },
     "execution_count": 111,
     "metadata": {},
     "output_type": "execute_result"
    }
   ],
   "source": [
    "prices.mean()"
   ]
  },
  {
   "cell_type": "code",
   "execution_count": 105,
   "metadata": {},
   "outputs": [],
   "source": [
    "assets=np.array(asset_log)"
   ]
  },
  {
   "cell_type": "code",
   "execution_count": 107,
   "metadata": {},
   "outputs": [],
   "source": [
    "assets=(assets-assets.mean())/assets.std()"
   ]
  },
  {
   "cell_type": "code",
   "execution_count": 112,
   "metadata": {},
   "outputs": [
    {
     "data": {
      "text/plain": [
       "<matplotlib.text.Text at 0x7fac2a4c1a90>"
      ]
     },
     "execution_count": 112,
     "metadata": {},
     "output_type": "execute_result"
    },
    {
     "data": {
      "image/png": "[encoded data removed]",
      "text/plain": [
       "<matplotlib.figure.Figure at 0x7fac2a4eeac8>"
      ]
     },
     "metadata": {
      "needs_background": "light"
     },
     "output_type": "display_data"
    }
   ],
   "source": [
    "plt.plot(assets, label='agent asset')\n",
    "plt.plot(prices, label='bitcoin weighted price')\n",
    "plt.legend()\n",
    "plt.title('')"
   ]
  },
  {
   "cell_type": "code",
   "execution_count": 89,
   "metadata": {},
   "outputs": [
    {
     "data": {
      "text/plain": [
       "<matplotlib.text.Text at 0x7fac2c45c198>"
      ]
     },
     "execution_count": 89,
     "metadata": {},
     "output_type": "execute_result"
    },
    {
     "data": {
      "image/png": "[encoded data removed]",
      "text/plain": [
       "<matplotlib.figure.Figure at 0x7fac34718908>"
      ]
     },
     "metadata": {
      "needs_background": "light"
     },
     "output_type": "display_data"
    }
   ],
   "source": [
    "plt.plot(rewards_log)\n",
    "plt.title('accumulated rewards')"
   ]
  },
  {
   "cell_type": "code",
   "execution_count": null,
   "metadata": {},
   "outputs": [],
   "source": []
  }
 ],
 "metadata": {
  "accelerator": "GPU",
  "colab": {
   "collapsed_sections": [],
   "name": "“MidtermCode.ipynb”的副本",
   "provenance": [],
   "version": "0.3.2"
  },
  "kernelspec": {
   "display_name": "Python 3",
   "language": "python",
   "name": "python3"
  },
  "language_info": {
   "codemirror_mode": {
    "name": "ipython",
    "version": 3
   },
   "file_extension": ".py",
   "mimetype": "text/x-python",
   "name": "python",
   "nbconvert_exporter": "python",
   "pygments_lexer": "ipython3",
   "version": "3.6.0"
  }
 },
 "nbformat": 4,
 "nbformat_minor": 2
}
