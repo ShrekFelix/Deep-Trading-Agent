{
  "nbformat": 4,
  "nbformat_minor": 0,
  "metadata": {
    "colab": {
      "name": "“MidtermCode.ipynb”的副本",
      "version": "0.3.2",
      "provenance": [],
      "collapsed_sections": []
    },
    "kernelspec": {
      "display_name": "Python 3",
      "language": "python",
      "name": "python3"
    },
    "accelerator": "GPU"
  },
  "cells": [
    {
      "metadata": {
        "colab_type": "code",
        "id": "2sNvsc8OaKc-",
        "colab": {}
      },
      "cell_type": "code",
      "source": [
        "%matplotlib inline\n",
        "import tensorflow as tf\n",
        "import matplotlib.pyplot as plt\n",
        "import pandas as pd\n",
        "import numpy as np\n",
        "import random\n",
        "import os\n",
        "import math\n",
        "from collections import deque"
      ],
      "execution_count": 0,
      "outputs": []
    },
    {
      "metadata": {
        "colab_type": "code",
        "id": "2RwoFIb_dbIF",
        "outputId": "5eefc53e-414e-4a30-b7cc-f21235990bfa",
        "colab": {
          "base_uri": "https://localhost:8080/",
          "height": 49
        }
      },
      "cell_type": "code",
      "source": [
        "bitstamp = pd.read_csv('bitstampUSD_1-min_data_2012-01-01_to_2018-06-27.csv')\n",
        "bitstamp.drop(labels='Timestamp', axis=1, inplace=True)\n",
        "bitstamp = bitstamp[2500000:]\n",
        "bitstamp.head()"
      ],
      "execution_count": 15,
      "outputs": [
        {
          "output_type": "execute_result",
          "data": {
            "text/html": [
              "<div>\n",
              "<style scoped>\n",
              "    .dataframe tbody tr th:only-of-type {\n",
              "        vertical-align: middle;\n",
              "    }\n",
              "\n",
              "    .dataframe tbody tr th {\n",
              "        vertical-align: top;\n",
              "    }\n",
              "\n",
              "    .dataframe thead th {\n",
              "        text-align: right;\n",
              "    }\n",
              "</style>\n",
              "<table border=\"1\" class=\"dataframe\">\n",
              "  <thead>\n",
              "    <tr style=\"text-align: right;\">\n",
              "      <th></th>\n",
              "      <th>Open</th>\n",
              "      <th>High</th>\n",
              "      <th>Low</th>\n",
              "      <th>Close</th>\n",
              "      <th>Volume_(BTC)</th>\n",
              "      <th>Volume_(Currency)</th>\n",
              "      <th>Weighted_Price</th>\n",
              "    </tr>\n",
              "  </thead>\n",
              "  <tbody>\n",
              "  </tbody>\n",
              "</table>\n",
              "</div>"
            ],
            "text/plain": [
              "Empty DataFrame\n",
              "Columns: [Open, High, Low, Close, Volume_(BTC), Volume_(Currency), Weighted_Price]\n",
              "Index: []"
            ]
          },
          "metadata": {
            "tags": []
          },
          "execution_count": 15
        }
      ]
    },
    {
      "metadata": {
        "colab_type": "code",
        "id": "q_RoSGgXlFZt",
        "colab": {}
      },
      "cell_type": "code",
      "source": [
        "bitstamp = np.array(bitstamp)"
      ],
      "execution_count": 0,
      "outputs": []
    },
    {
      "metadata": {
        "id": "fPRPFlmMfVUE",
        "colab_type": "code",
        "colab": {
          "base_uri": "https://localhost:8080/",
          "height": 34
        },
        "outputId": "eaee51b6-9924-48ae-8d69-7b08c7b51091"
      },
      "cell_type": "code",
      "source": [
        "bitstamp"
      ],
      "execution_count": 4,
      "outputs": [
        {
          "output_type": "execute_result",
          "data": {
            "text/plain": [
              "array([], shape=(0, 7), dtype=float64)"
            ]
          },
          "metadata": {
            "tags": []
          },
          "execution_count": 4
        }
      ]
    },
    {
      "metadata": {
        "id": "_ya1v2wWfVUI",
        "colab_type": "code",
        "colab": {}
      },
      "cell_type": "code",
      "source": [
        "import tensorflow.keras as k"
      ],
      "execution_count": 0,
      "outputs": []
    },
    {
      "metadata": {
        "id": "GCE1QZe8fVUK",
        "colab_type": "code",
        "colab": {}
      },
      "cell_type": "code",
      "source": [
        "from tensorflow.keras.layers import *"
      ],
      "execution_count": 0,
      "outputs": []
    },
    {
      "metadata": {
        "colab_type": "code",
        "id": "MLMFLYFKkkdk",
        "outputId": "8d242c7d-f7cc-41f2-ceb0-0069a78c7cee",
        "colab": {
          "base_uri": "https://localhost:8080/",
          "height": 34
        }
      },
      "cell_type": "code",
      "source": [
        "bitstamp.shape"
      ],
      "execution_count": 7,
      "outputs": [
        {
          "output_type": "execute_result",
          "data": {
            "text/plain": [
              "(0, 7)"
            ]
          },
          "metadata": {
            "tags": []
          },
          "execution_count": 7
        }
      ]
    },
    {
      "metadata": {
        "colab_type": "code",
        "id": "k30Y1vjji5Nk",
        "colab": {}
      },
      "cell_type": "code",
      "source": [
        "class Trader:\n",
        "    def __init__(self, max_turns=60*24*60, fee_rate=.0005):\n",
        "        self.action_space = [i for i in range(17)]\n",
        "        self.max_turns = max_turns\n",
        "        self.fee_rate = fee_rate\n",
        "        self.reset()\n",
        "        \n",
        "    def reset(self):\n",
        "        self.t = 0\n",
        "        self.cash = 100000\n",
        "        self.coins = 0\n",
        "        self.time = random.randrange(60*24*60, len(bitstamp) - 60*24*60)\n",
        "        self.done = False\n",
        "        s = self.t+self.time, self.coins, self.cash\n",
        "        return s\n",
        "\n",
        "    def step(self, action):\n",
        "        if self.t == self.max_turns:\n",
        "            self.done = True\n",
        "        price_open = bitstamp[self.time + self.t][0]\n",
        "        price_close = bitstamp[self.time + self.t + 1][0]\n",
        "        prev_asset = price_open * self.coins + self.cash\n",
        "        percent = action-8\n",
        "        if percent < 0:\n",
        "            coins_sold = self.coins * (-percent) * .1\n",
        "            self.cash += coins_sold * price_open * (1-self.fee_rate)\n",
        "            self.coins -= coins_sold\n",
        "\n",
        "        elif percent > 0:\n",
        "            money_spent = self.cash * percent * .1 \n",
        "            self.coins += money_spent * (1-self.fee_rate) / price_open\n",
        "            self.cash -= money_spent\n",
        "            \n",
        "        r = price_close * self.coins + self.cash - prev_asset\n",
        "        s = self.t+self.time, self.coins, self.cash\n",
        "        self.asset = price_close * self.coins + self.cash\n",
        "        if self.asset < 60000:\n",
        "            self.done = True\n",
        "            \n",
        "        self.t += 1\n",
        "        return s, r, self.done"
      ],
      "execution_count": 0,
      "outputs": []
    },
    {
      "metadata": {
        "colab_type": "code",
        "id": "76EzOT_DiAyD",
        "outputId": "230e86ce-27b2-4bf0-8c0d-583a153f0122",
        "colab": {
          "base_uri": "https://localhost:8080/",
          "height": 354
        }
      },
      "cell_type": "code",
      "source": [
        "class DQNTrader():\n",
        "    def __init__(self, n_episodes=100, n_win_ticks=195, \n",
        "                 gamma=.9999, epsilon=1.0, epsilon_min=0.01, epsilon_log_decay=0.995, alpha=0.01, alpha_decay=0.01, \n",
        "                 batch_size=32):\n",
        "        self.env = Trader()\n",
        "        self.memory = deque(maxlen=100000)\n",
        "        self.gamma = gamma\n",
        "        self.epsilon = epsilon\n",
        "        self.epsilon_min = epsilon_min\n",
        "        self.epsilon_decay = epsilon_log_decay\n",
        "        self.alpha = alpha\n",
        "        self.alpha_decay = alpha_decay\n",
        "        self.n_episodes = n_episodes\n",
        "        self.n_win_ticks = n_win_ticks\n",
        "        self.batch_size = batch_size\n",
        "\n",
        "        tf.reset_default_graph()\n",
        "        \n",
        "        inputs = Input(shape=(60*24*30*7+2,))\n",
        "        print(inputs)\n",
        "        t0 = Lambda(lambda i:i[:,:-2])(inputs)\n",
        "        c = Lambda(lambda i:i[:,-2:])(inputs)\n",
        "        #t0, c = inputs[:,:-2], inputs[:,-2:]\n",
        "        t = Reshape((60*24*30,7))(t0)\n",
        "        print(t,c)\n",
        "        lstm = LSTM(7, return_sequences=False)(t)\n",
        "        print(lstm)\n",
        "        h1 = Dense(1)(lstm)\n",
        "        print(h1,c)\n",
        "        outputs = Dense(len(self.env.action_space), 'relu')(k.layers.concatenate([h1, c],1))\n",
        "        print(outputs)\n",
        "        self.model = k.models.Model(inputs=inputs, outputs=outputs)\n",
        "        self.model.compile(optimizer='Adam', loss='mse')                               \n",
        "        print(self.model.summary())\n",
        "                                                            \n",
        "    def choose_action(self, state, epsilon):        \n",
        "        return random.choice(self.env.action_space) if (np.random.random() <= epsilon) else np.argmax(self.sess.run(self.Q, feed_dict={self.state_: my_lstm(state)}))\n",
        "\n",
        "    def get_epsilon(self, t):\n",
        "        return max(self.epsilon_min, min(self.epsilon, 1.0 - math.log10((t + 1) * self.epsilon_decay)))\n",
        "    \n",
        "    def preprocess_state(self, s):\n",
        "        time, coins, cash = s\n",
        "        state = np.append(bitstamp[time-60*24*30 : time].flatten(), [coins, cash]).reshape(1,60*24*30*7+2) # 1 batch of input\n",
        "        return state\n",
        "    def replay(self, batch_size):\n",
        "        minibatch = random.sample(self.memory, min(len(self.memory), batch_size))\n",
        "        for state, action, reward, next_state, done in minibatch:\n",
        "            xs, ys = [],[]\n",
        "            state = self.preprocess_state(state)\n",
        "            next_state = self.preprocess_state(next_state)\n",
        "            if done:\n",
        "                target = reward\n",
        "            else:\n",
        "                target = reward + self.gamma * np.max(self.model.predict(next_state)[0])\n",
        "            Q = self.model.predict(state)\n",
        "            Q[0][action] = target\n",
        "            xs.append(state)\n",
        "            ys.append(Q)\n",
        "        \n",
        "        tf.convert_to_tensor(xs)\n",
        "        tf.convert_to_tensor(ys)\n",
        "        self.model.fit(xs, ys, epochs=1)\n",
        "\n",
        "        if self.epsilon > self.epsilon_min:\n",
        "            self.epsilon *= self.epsilon_decay\n",
        "\n",
        "    def run(self):\n",
        "        scores = deque(maxlen=100)\n",
        "        for e in range(self.n_episodes):\n",
        "            state = self.env.reset()\n",
        "            done = False\n",
        "            rewards = 0\n",
        "            while not done:\n",
        "                action = self.choose_action(state, self.get_epsilon(e))\n",
        "                next_state, reward, done = self.env.step(action)\n",
        "                self.memory.append((state, action, reward, next_state, done))\n",
        "                state = next_state\n",
        "                rewards += reward\n",
        "            \n",
        "            print(self.env.time, self.env.t, self.env.cash, self.env.coins, self.env.asset)\n",
        "            scores.append(rewards)\n",
        "            mean_score = np.mean(scores)\n",
        "            if mean_score >= self.n_win_ticks and e >= 100:\n",
        "                if not self.quiet: print('Ran {} episodes. Solved after {} trials ✔'.format(e, e - 100))\n",
        "                return e - 100\n",
        "            if e % 10 == 0:\n",
        "                print('[Episode {}] - Mean survival time over last 100 episodes was {} ticks.'.format(e, mean_score))\n",
        "            print('replaying')\n",
        "            self.replay(self.batch_size)\n",
        "            print('replayed')\n",
        "        return e\n",
        "\n",
        "agent = DQNTrader()\n",
        "agent.run()"
      ],
      "execution_count": 8,
      "outputs": [
        {
          "output_type": "error",
          "ename": "NameError",
          "evalue": "ignored",
          "traceback": [
            "\u001b[0;31m---------------------------------------------------------------------------\u001b[0m",
            "\u001b[0;31mNameError\u001b[0m                                 Traceback (most recent call last)",
            "\u001b[0;32m<ipython-input-8-ab02ba722819>\u001b[0m in \u001b[0;36m<module>\u001b[0;34m()\u001b[0m\n\u001b[1;32m     92\u001b[0m         \u001b[0;32mreturn\u001b[0m \u001b[0me\u001b[0m\u001b[0;34m\u001b[0m\u001b[0;34m\u001b[0m\u001b[0m\n\u001b[1;32m     93\u001b[0m \u001b[0;34m\u001b[0m\u001b[0m\n\u001b[0;32m---> 94\u001b[0;31m \u001b[0magent\u001b[0m \u001b[0;34m=\u001b[0m \u001b[0mDQNTrader\u001b[0m\u001b[0;34m(\u001b[0m\u001b[0;34m)\u001b[0m\u001b[0;34m\u001b[0m\u001b[0;34m\u001b[0m\u001b[0m\n\u001b[0m\u001b[1;32m     95\u001b[0m \u001b[0magent\u001b[0m\u001b[0;34m.\u001b[0m\u001b[0mrun\u001b[0m\u001b[0;34m(\u001b[0m\u001b[0;34m)\u001b[0m\u001b[0;34m\u001b[0m\u001b[0;34m\u001b[0m\u001b[0m\n",
            "\u001b[0;32m<ipython-input-8-ab02ba722819>\u001b[0m in \u001b[0;36m__init__\u001b[0;34m(self, n_episodes, n_win_ticks, gamma, epsilon, epsilon_min, epsilon_log_decay, alpha, alpha_decay, batch_size)\u001b[0m\n\u001b[1;32m      3\u001b[0m                  \u001b[0mgamma\u001b[0m\u001b[0;34m=\u001b[0m\u001b[0;36m.9999\u001b[0m\u001b[0;34m,\u001b[0m \u001b[0mepsilon\u001b[0m\u001b[0;34m=\u001b[0m\u001b[0;36m1.0\u001b[0m\u001b[0;34m,\u001b[0m \u001b[0mepsilon_min\u001b[0m\u001b[0;34m=\u001b[0m\u001b[0;36m0.01\u001b[0m\u001b[0;34m,\u001b[0m \u001b[0mepsilon_log_decay\u001b[0m\u001b[0;34m=\u001b[0m\u001b[0;36m0.995\u001b[0m\u001b[0;34m,\u001b[0m \u001b[0malpha\u001b[0m\u001b[0;34m=\u001b[0m\u001b[0;36m0.01\u001b[0m\u001b[0;34m,\u001b[0m \u001b[0malpha_decay\u001b[0m\u001b[0;34m=\u001b[0m\u001b[0;36m0.01\u001b[0m\u001b[0;34m,\u001b[0m\u001b[0;34m\u001b[0m\u001b[0;34m\u001b[0m\u001b[0m\n\u001b[1;32m      4\u001b[0m                  batch_size=32):\n\u001b[0;32m----> 5\u001b[0;31m         \u001b[0mself\u001b[0m\u001b[0;34m.\u001b[0m\u001b[0menv\u001b[0m \u001b[0;34m=\u001b[0m \u001b[0mTrader\u001b[0m\u001b[0;34m(\u001b[0m\u001b[0;34m)\u001b[0m\u001b[0;34m\u001b[0m\u001b[0;34m\u001b[0m\u001b[0m\n\u001b[0m\u001b[1;32m      6\u001b[0m         \u001b[0mself\u001b[0m\u001b[0;34m.\u001b[0m\u001b[0mmemory\u001b[0m \u001b[0;34m=\u001b[0m \u001b[0mdeque\u001b[0m\u001b[0;34m(\u001b[0m\u001b[0mmaxlen\u001b[0m\u001b[0;34m=\u001b[0m\u001b[0;36m100000\u001b[0m\u001b[0;34m)\u001b[0m\u001b[0;34m\u001b[0m\u001b[0;34m\u001b[0m\u001b[0m\n\u001b[1;32m      7\u001b[0m         \u001b[0mself\u001b[0m\u001b[0;34m.\u001b[0m\u001b[0mgamma\u001b[0m \u001b[0;34m=\u001b[0m \u001b[0mgamma\u001b[0m\u001b[0;34m\u001b[0m\u001b[0;34m\u001b[0m\u001b[0m\n",
            "\u001b[0;31mNameError\u001b[0m: name 'Trader' is not defined"
          ]
        }
      ]
    },
    {
      "metadata": {
        "id": "9IcK8yU_fVUY",
        "colab_type": "code",
        "colab": {}
      },
      "cell_type": "code",
      "source": [
        "time=60*24*30\n",
        "np.append(bitstamp[time-60*24*30 : time+1].flatten(), [1, 1]).shape"
      ],
      "execution_count": 0,
      "outputs": []
    },
    {
      "metadata": {
        "id": "JEkf-ZCofVUe",
        "colab_type": "code",
        "colab": {},
        "outputId": "d6b02698-78e9-485f-e7b7-ab6b2fcea9a2"
      },
      "cell_type": "code",
      "source": [
        "bitstamp[time-60*24*30 : time+1].shape"
      ],
      "execution_count": 0,
      "outputs": [
        {
          "output_type": "execute_result",
          "data": {
            "text/plain": [
              "(43201, 7)"
            ]
          },
          "metadata": {
            "tags": []
          },
          "execution_count": 69
        }
      ]
    },
    {
      "metadata": {
        "id": "lFrUWNSafVUh",
        "colab_type": "code",
        "colab": {}
      },
      "cell_type": "code",
      "source": [
        ""
      ],
      "execution_count": 0,
      "outputs": []
    }
  ]
}