{
 "cells": [
  {
   "cell_type": "code",
   "execution_count": 3,
   "metadata": {},
   "outputs": [],
   "source": [
    "from keras import backend\n",
    "assert len(backend.tensorflow_backend._get_available_gpus()) > 0"
   ]
  },
  {
   "cell_type": "code",
   "execution_count": 2,
   "metadata": {},
   "outputs": [
    {
     "name": "stderr",
     "output_type": "stream",
     "text": [
      "Using TensorFlow backend.\n"
     ]
    }
   ],
   "source": [
    "import keras"
   ]
  },
  {
   "cell_type": "code",
   "execution_count": 6,
   "metadata": {},
   "outputs": [
    {
     "ename": "ValueError",
     "evalue": "Input size must be at least 75x75; got `input_shape=(60, 24, 3)`",
     "output_type": "error",
     "traceback": [
      "\u001b[0;31m---------------------------------------------------------------------------\u001b[0m",
      "\u001b[0;31mValueError\u001b[0m                                Traceback (most recent call last)",
      "\u001b[0;32m<ipython-input-6-934eb4a0818c>\u001b[0m in \u001b[0;36m<module>\u001b[0;34m\u001b[0m\n\u001b[0;32m----> 1\u001b[0;31m \u001b[0mmodel\u001b[0m \u001b[0;34m=\u001b[0m \u001b[0mkeras\u001b[0m\u001b[0;34m.\u001b[0m\u001b[0mapplications\u001b[0m\u001b[0;34m.\u001b[0m\u001b[0minception_v3\u001b[0m\u001b[0;34m.\u001b[0m\u001b[0mInceptionV3\u001b[0m\u001b[0;34m(\u001b[0m\u001b[0minclude_top\u001b[0m\u001b[0;34m=\u001b[0m\u001b[0;32mFalse\u001b[0m\u001b[0;34m,\u001b[0m \u001b[0mweights\u001b[0m\u001b[0;34m=\u001b[0m\u001b[0;34m'imagenet'\u001b[0m\u001b[0;34m,\u001b[0m \u001b[0minput_tensor\u001b[0m\u001b[0;34m=\u001b[0m\u001b[0;32mNone\u001b[0m\u001b[0;34m,\u001b[0m \u001b[0minput_shape\u001b[0m\u001b[0;34m=\u001b[0m\u001b[0;34m(\u001b[0m\u001b[0;36m60\u001b[0m\u001b[0;34m,\u001b[0m\u001b[0;36m24\u001b[0m\u001b[0;34m,\u001b[0m\u001b[0;36m3\u001b[0m\u001b[0;34m)\u001b[0m\u001b[0;34m,\u001b[0m \u001b[0mpooling\u001b[0m\u001b[0;34m=\u001b[0m\u001b[0;32mNone\u001b[0m\u001b[0;34m,\u001b[0m \u001b[0mclasses\u001b[0m\u001b[0;34m=\u001b[0m\u001b[0;36m1000\u001b[0m\u001b[0;34m)\u001b[0m\u001b[0;34m\u001b[0m\u001b[0m\n\u001b[0m",
      "\u001b[0;32m/anaconda3/lib/python3.6/site-packages/keras/applications/__init__.py\u001b[0m in \u001b[0;36mwrapper\u001b[0;34m(*args, **kwargs)\u001b[0m\n\u001b[1;32m     26\u001b[0m             \u001b[0mkwargs\u001b[0m\u001b[0;34m[\u001b[0m\u001b[0;34m'models'\u001b[0m\u001b[0;34m]\u001b[0m \u001b[0;34m=\u001b[0m \u001b[0mmodels\u001b[0m\u001b[0;34m\u001b[0m\u001b[0m\n\u001b[1;32m     27\u001b[0m             \u001b[0mkwargs\u001b[0m\u001b[0;34m[\u001b[0m\u001b[0;34m'utils'\u001b[0m\u001b[0;34m]\u001b[0m \u001b[0;34m=\u001b[0m \u001b[0mutils\u001b[0m\u001b[0;34m\u001b[0m\u001b[0m\n\u001b[0;32m---> 28\u001b[0;31m         \u001b[0;32mreturn\u001b[0m \u001b[0mbase_fun\u001b[0m\u001b[0;34m(\u001b[0m\u001b[0;34m*\u001b[0m\u001b[0margs\u001b[0m\u001b[0;34m,\u001b[0m \u001b[0;34m**\u001b[0m\u001b[0mkwargs\u001b[0m\u001b[0;34m)\u001b[0m\u001b[0;34m\u001b[0m\u001b[0m\n\u001b[0m\u001b[1;32m     29\u001b[0m \u001b[0;34m\u001b[0m\u001b[0m\n\u001b[1;32m     30\u001b[0m     \u001b[0;32mreturn\u001b[0m \u001b[0mwrapper\u001b[0m\u001b[0;34m\u001b[0m\u001b[0m\n",
      "\u001b[0;32m/anaconda3/lib/python3.6/site-packages/keras/applications/inception_v3.py\u001b[0m in \u001b[0;36mInceptionV3\u001b[0;34m(*args, **kwargs)\u001b[0m\n\u001b[1;32m      9\u001b[0m \u001b[0;34m@\u001b[0m\u001b[0mkeras_modules_injection\u001b[0m\u001b[0;34m\u001b[0m\u001b[0m\n\u001b[1;32m     10\u001b[0m \u001b[0;32mdef\u001b[0m \u001b[0mInceptionV3\u001b[0m\u001b[0;34m(\u001b[0m\u001b[0;34m*\u001b[0m\u001b[0margs\u001b[0m\u001b[0;34m,\u001b[0m \u001b[0;34m**\u001b[0m\u001b[0mkwargs\u001b[0m\u001b[0;34m)\u001b[0m\u001b[0;34m:\u001b[0m\u001b[0;34m\u001b[0m\u001b[0m\n\u001b[0;32m---> 11\u001b[0;31m     \u001b[0;32mreturn\u001b[0m \u001b[0minception_v3\u001b[0m\u001b[0;34m.\u001b[0m\u001b[0mInceptionV3\u001b[0m\u001b[0;34m(\u001b[0m\u001b[0;34m*\u001b[0m\u001b[0margs\u001b[0m\u001b[0;34m,\u001b[0m \u001b[0;34m**\u001b[0m\u001b[0mkwargs\u001b[0m\u001b[0;34m)\u001b[0m\u001b[0;34m\u001b[0m\u001b[0m\n\u001b[0m\u001b[1;32m     12\u001b[0m \u001b[0;34m\u001b[0m\u001b[0m\n\u001b[1;32m     13\u001b[0m \u001b[0;34m\u001b[0m\u001b[0m\n",
      "\u001b[0;32m/anaconda3/lib/python3.6/site-packages/keras_applications/inception_v3.py\u001b[0m in \u001b[0;36mInceptionV3\u001b[0;34m(include_top, weights, input_tensor, input_shape, pooling, classes, **kwargs)\u001b[0m\n\u001b[1;32m    152\u001b[0m         \u001b[0mdata_format\u001b[0m\u001b[0;34m=\u001b[0m\u001b[0mbackend\u001b[0m\u001b[0;34m.\u001b[0m\u001b[0mimage_data_format\u001b[0m\u001b[0;34m(\u001b[0m\u001b[0;34m)\u001b[0m\u001b[0;34m,\u001b[0m\u001b[0;34m\u001b[0m\u001b[0m\n\u001b[1;32m    153\u001b[0m         \u001b[0mrequire_flatten\u001b[0m\u001b[0;34m=\u001b[0m\u001b[0;32mFalse\u001b[0m\u001b[0;34m,\u001b[0m\u001b[0;34m\u001b[0m\u001b[0m\n\u001b[0;32m--> 154\u001b[0;31m         weights=weights)\n\u001b[0m\u001b[1;32m    155\u001b[0m \u001b[0;34m\u001b[0m\u001b[0m\n\u001b[1;32m    156\u001b[0m     \u001b[0;32mif\u001b[0m \u001b[0minput_tensor\u001b[0m \u001b[0;32mis\u001b[0m \u001b[0;32mNone\u001b[0m\u001b[0;34m:\u001b[0m\u001b[0;34m\u001b[0m\u001b[0m\n",
      "\u001b[0;32m/anaconda3/lib/python3.6/site-packages/keras_applications/imagenet_utils.py\u001b[0m in \u001b[0;36m_obtain_input_shape\u001b[0;34m(input_shape, default_size, min_size, data_format, require_flatten, weights)\u001b[0m\n\u001b[1;32m    320\u001b[0m                                      \u001b[0mstr\u001b[0m\u001b[0;34m(\u001b[0m\u001b[0mmin_size\u001b[0m\u001b[0;34m)\u001b[0m \u001b[0;34m+\u001b[0m \u001b[0;34m'x'\u001b[0m \u001b[0;34m+\u001b[0m \u001b[0mstr\u001b[0m\u001b[0;34m(\u001b[0m\u001b[0mmin_size\u001b[0m\u001b[0;34m)\u001b[0m \u001b[0;34m+\u001b[0m\u001b[0;34m\u001b[0m\u001b[0m\n\u001b[1;32m    321\u001b[0m                                      \u001b[0;34m'; got `input_shape='\u001b[0m \u001b[0;34m+\u001b[0m\u001b[0;34m\u001b[0m\u001b[0m\n\u001b[0;32m--> 322\u001b[0;31m                                      str(input_shape) + '`')\n\u001b[0m\u001b[1;32m    323\u001b[0m     \u001b[0;32melse\u001b[0m\u001b[0;34m:\u001b[0m\u001b[0;34m\u001b[0m\u001b[0m\n\u001b[1;32m    324\u001b[0m         \u001b[0;32mif\u001b[0m \u001b[0mrequire_flatten\u001b[0m\u001b[0;34m:\u001b[0m\u001b[0;34m\u001b[0m\u001b[0m\n",
      "\u001b[0;31mValueError\u001b[0m: Input size must be at least 75x75; got `input_shape=(60, 24, 3)`"
     ]
    }
   ],
   "source": [
    "model = keras.applications.inception_v3.InceptionV3(include_top=False, weights='imagenet', input_tensor=None, input_shape=(60,24,3), pooling=None, classes=1000)"
   ]
  },
  {
   "cell_type": "code",
   "execution_count": null,
   "metadata": {},
   "outputs": [],
   "source": []
  },
  {
   "cell_type": "code",
   "execution_count": 20,
   "metadata": {},
   "outputs": [
    {
     "data": {
      "text/plain": [
       "<tf.Tensor 'Const:0' shape=(2, 2) dtype=int32>"
      ]
     },
     "execution_count": 20,
     "metadata": {},
     "output_type": "execute_result"
    }
   ],
   "source": [
    "tf.convert_to_tensor([[1,2],[3,4]])"
   ]
  },
  {
   "cell_type": "code",
   "execution_count": null,
   "metadata": {},
   "outputs": [],
   "source": []
  },
  {
   "cell_type": "code",
   "execution_count": null,
   "metadata": {},
   "outputs": [],
   "source": []
  },
  {
   "cell_type": "code",
   "execution_count": null,
   "metadata": {},
   "outputs": [],
   "source": []
  },
  {
   "cell_type": "code",
   "execution_count": null,
   "metadata": {},
   "outputs": [],
   "source": []
  },
  {
   "cell_type": "code",
   "execution_count": null,
   "metadata": {},
   "outputs": [],
   "source": []
  },
  {
   "cell_type": "code",
   "execution_count": null,
   "metadata": {},
   "outputs": [],
   "source": []
  },
  {
   "cell_type": "code",
   "execution_count": 4,
   "metadata": {},
   "outputs": [],
   "source": [
    "%matplotlib inline\n",
    "import tensorflow as tf\n",
    "import matplotlib.pyplot as plt\n",
    "import pandas as pd\n",
    "import numpy as np\n",
    "import random\n",
    "import os"
   ]
  },
  {
   "cell_type": "code",
   "execution_count": 5,
   "metadata": {},
   "outputs": [
    {
     "data": {
      "text/html": [
       "<div>\n",
       "<style scoped>\n",
       "    .dataframe tbody tr th:only-of-type {\n",
       "        vertical-align: middle;\n",
       "    }\n",
       "\n",
       "    .dataframe tbody tr th {\n",
       "        vertical-align: top;\n",
       "    }\n",
       "\n",
       "    .dataframe thead th {\n",
       "        text-align: right;\n",
       "    }\n",
       "</style>\n",
       "<table border=\"1\" class=\"dataframe\">\n",
       "  <thead>\n",
       "    <tr style=\"text-align: right;\">\n",
       "      <th></th>\n",
       "      <th>Open</th>\n",
       "      <th>High</th>\n",
       "      <th>Low</th>\n",
       "      <th>Close</th>\n",
       "      <th>Volume_(BTC)</th>\n",
       "      <th>Volume_(Currency)</th>\n",
       "      <th>Weighted_Price</th>\n",
       "    </tr>\n",
       "  </thead>\n",
       "  <tbody>\n",
       "    <tr>\n",
       "      <th>2500000</th>\n",
       "      <td>609.87</td>\n",
       "      <td>609.87</td>\n",
       "      <td>609.41</td>\n",
       "      <td>609.41</td>\n",
       "      <td>4.200000</td>\n",
       "      <td>2560.068344</td>\n",
       "      <td>609.540082</td>\n",
       "    </tr>\n",
       "    <tr>\n",
       "      <th>2500001</th>\n",
       "      <td>609.87</td>\n",
       "      <td>609.87</td>\n",
       "      <td>609.41</td>\n",
       "      <td>609.41</td>\n",
       "      <td>4.200000</td>\n",
       "      <td>2560.068344</td>\n",
       "      <td>609.540082</td>\n",
       "    </tr>\n",
       "    <tr>\n",
       "      <th>2500002</th>\n",
       "      <td>609.87</td>\n",
       "      <td>609.87</td>\n",
       "      <td>609.41</td>\n",
       "      <td>609.41</td>\n",
       "      <td>4.200000</td>\n",
       "      <td>2560.068344</td>\n",
       "      <td>609.540082</td>\n",
       "    </tr>\n",
       "    <tr>\n",
       "      <th>2500003</th>\n",
       "      <td>610.97</td>\n",
       "      <td>610.97</td>\n",
       "      <td>610.97</td>\n",
       "      <td>610.97</td>\n",
       "      <td>0.018135</td>\n",
       "      <td>11.080002</td>\n",
       "      <td>610.970000</td>\n",
       "    </tr>\n",
       "    <tr>\n",
       "      <th>2500004</th>\n",
       "      <td>610.97</td>\n",
       "      <td>610.97</td>\n",
       "      <td>610.97</td>\n",
       "      <td>610.97</td>\n",
       "      <td>0.018135</td>\n",
       "      <td>11.080002</td>\n",
       "      <td>610.970000</td>\n",
       "    </tr>\n",
       "  </tbody>\n",
       "</table>\n",
       "</div>"
      ],
      "text/plain": [
       "           Open    High     Low   Close  Volume_(BTC)  Volume_(Currency)  \\\n",
       "2500000  609.87  609.87  609.41  609.41      4.200000        2560.068344   \n",
       "2500001  609.87  609.87  609.41  609.41      4.200000        2560.068344   \n",
       "2500002  609.87  609.87  609.41  609.41      4.200000        2560.068344   \n",
       "2500003  610.97  610.97  610.97  610.97      0.018135          11.080002   \n",
       "2500004  610.97  610.97  610.97  610.97      0.018135          11.080002   \n",
       "\n",
       "         Weighted_Price  \n",
       "2500000      609.540082  \n",
       "2500001      609.540082  \n",
       "2500002      609.540082  \n",
       "2500003      610.970000  \n",
       "2500004      610.970000  "
      ]
     },
     "execution_count": 5,
     "metadata": {},
     "output_type": "execute_result"
    }
   ],
   "source": [
    "bitstamp = pd.read_csv('bitstampUSD_1-min_data_2012-01-01_to_2018-06-27.csv')\n",
    "bitstamp.drop(labels='Timestamp', axis=1, inplace=True)\n",
    "bitstamp = bitstamp[2500000:]\n",
    "bitstamp.head()"
   ]
  },
  {
   "cell_type": "code",
   "execution_count": null,
   "metadata": {},
   "outputs": [],
   "source": [
    "np.array."
   ]
  },
  {
   "cell_type": "code",
   "execution_count": null,
   "metadata": {},
   "outputs": [],
   "source": [
    "# for faster numpy concat\n",
    "b = np.array(bitstamp)\n",
    "a = b.reshape((-1))\n",
    "n = 24*60*60\n",
    "X = [a[i:i+n*7] for i in range(0,len(a) - 2*n*7,7)]"
   ]
  },
  {
   "cell_type": "code",
   "execution_count": 7,
   "metadata": {},
   "outputs": [],
   "source": [
    "###code to generate y\n",
    "def getY(x,n):\n",
    "    x_num=len(x)\n",
    "    y=[]\n",
    "    for i in range(n,x_num-n):\n",
    "        temp=max(x[i:i+n][1])\n",
    "        temp=temp+min(x[i:i+n][2])\n",
    "        temp=temp-2*x[i+n-1][3]\n",
    "        temp=temp/x[i+n-1][3]\n",
    "        y.append(temp)\n",
    "    return y\n",
    "y=getY(b,n)"
   ]
  },
  {
   "cell_type": "code",
   "execution_count": 8,
   "metadata": {},
   "outputs": [
    {
     "data": {
      "text/plain": [
       "(733057, 733057)"
      ]
     },
     "execution_count": 8,
     "metadata": {},
     "output_type": "execute_result"
    }
   ],
   "source": [
    "len(X), len(y)"
   ]
  },
  {
   "cell_type": "code",
   "execution_count": 9,
   "metadata": {},
   "outputs": [
    {
     "data": {
      "text/plain": [
       "(604800,)"
      ]
     },
     "execution_count": 9,
     "metadata": {},
     "output_type": "execute_result"
    }
   ],
   "source": [
    "X[0].shape"
   ]
  },
  {
   "cell_type": "code",
   "execution_count": 10,
   "metadata": {},
   "outputs": [
    {
     "data": {
      "text/plain": [
       "-1.2470509412973756"
      ]
     },
     "execution_count": 10,
     "metadata": {},
     "output_type": "execute_result"
    }
   ],
   "source": [
    "y[0]"
   ]
  },
  {
   "cell_type": "code",
   "execution_count": 5,
   "metadata": {},
   "outputs": [],
   "source": [
    "class dataGenerator():\n",
    "    def __init__(self,X,y):\n",
    "        self.data_num=len(X)\n",
    "        shuffled = list(zip(X,y))\n",
    "        random.shuffle(shuffled)\n",
    "        self.X, self.y = list(zip(*shuffled))\n",
    "        self.X = list(self.X)\n",
    "        self.y = list(y)\n",
    "        self.iter=0\n",
    "    \n",
    "    def get_batch(self,n):\n",
    "        temp = self.iter\n",
    "        self.iter += n\n",
    "        self.iter %= self.data_num\n",
    "        if self.iter < temp:\n",
    "            self.iter %= self.data_numss\n",
    "            return np.append(self.X[temp:], self.X[:self.iter], axis = 0), np.append(self.y[temp:], self.y[:self.iter], axis = 0)\n",
    "        else:\n",
    "            #self.iter %= self.data_num\n",
    "            return self.X[temp:self.iter], self.y[temp:self.iter]"
   ]
  },
  {
   "cell_type": "code",
   "execution_count": 6,
   "metadata": {},
   "outputs": [],
   "source": [
    "for i in range(len(X)):\n",
    "    X[i] = X[i].reshape(-1,7,1)\n",
    "\n",
    "for i in range(len(y)):\n",
    "    y[i] = y[i].reshape(-1)"
   ]
  },
  {
   "cell_type": "code",
   "execution_count": 7,
   "metadata": {},
   "outputs": [],
   "source": [
    "#reduction: decrease in output resolution\n",
    "#inception: output same dim\n",
    " \n",
    "images_path = \"data/MNIST_train_images.gz\"\n",
    "labels_path = \"data/MNIST_train_labels.gz\"\n",
    "export_path = \"saved_model/\"\n",
    "ckpt_path   = \"tmp/ckpt\"\n",
    " \n",
    "#mnist = MNISTData(images_path, labels_path)\n",
    "#validate_set, train_set = mnist.split(5000)"
   ]
  },
  {
   "cell_type": "code",
   "execution_count": 12,
   "metadata": {},
   "outputs": [],
   "source": [
    "def main():\n",
    "    tf.reset_default_graph()\n",
    "    model = InceptionModel([None, 86400, 7, 1], [None, 1])\n",
    "    model.train(dataGenerator(X, y), epochs=6875, keep_prob = 0.8)\n",
    "    #img, label = validate_set.get_batch(85)\n",
    "    #result = model.classify(img)\n",
    "    #result = model.classify(generateModelTestData(2))\n",
    "    result = model.classify(X)\n",
    "    print(np.argmax(result, axis=1))\n",
    "    print(np.argmax(y, axis=1))\n",
    "    correct_prediction = np.equal(np.argmax(result, 1), np.argmax(y, 1))\n",
    "    accuracy = np.sum(correct_prediction) / correct_prediction.size\n",
    "    print(correct_prediction)\n",
    "    print(accuracy)\n",
    "    \n",
    "    return\n",
    "\n",
    "def generateModelTestData(n):\n",
    "    x=np.random.uniform(-5,5,size=(n,86400*7))\n",
    "    y=np.ones(n)\n",
    "    return x,y\n",
    "\n",
    "class InceptionModel():\n",
    "    def __init__(self, input_shape, output_shape, ckpt_path='./', model_path='./'):\n",
    "        self.ckpt_path = ckpt_path\n",
    "        self.model_path = model_path\n",
    "        self.num_class = output_shape[1]\n",
    "        self.X = tf.placeholder(tf.float32, input_shape)\n",
    "        self.y = tf.placeholder(tf.float32, output_shape)\n",
    " \n",
    "        self.define_model()\n",
    "        return\n",
    " \n",
    "    def define_model(self):\n",
    "        self.keep_prob = tf.placeholder(tf.float32)\n",
    " \n",
    "        with tf.variable_scope('input'):\n",
    "            _X = tf.image.resize_images(self.X, [86400, 7])\n",
    " \n",
    "        with tf.variable_scope('stem'):\n",
    "            _stem = stem(_X)\n",
    " \n",
    "        _inception_a = {-1: _stem}\n",
    "        for i in range(4):#4次运算，用字典来存放计算结果\n",
    "            with tf.variable_scope('inception_a_'+str(i)):\n",
    "                _inception_a[i] = inception_a(_inception_a[i-1])\n",
    " \n",
    "        with tf.variable_scope('reduction_a'):\n",
    "            _reduction_a = reduction_a(_inception_a[3])\n",
    "      \n",
    "        #another max_pool\n",
    "        _first_pool = tf.nn.max_pool([_reduction_a[0]], [1, 4, 1, 1], [1, 2, 1, 1], padding='VALID', name='pool')\n",
    " \n",
    "        _inception_b = {-1: _first_pool}\n",
    "        for i in range(7):\n",
    "            with tf.variable_scope('inception_b_'+str(i)):\n",
    "                _inception_b[i] = inception_b(_inception_b[i-1])\n",
    " \n",
    "        with tf.variable_scope('reduction_b'):\n",
    "            _reduction_b = reduction_b(_inception_b[6])\n",
    " \n",
    "        _inception_c = {-1: _reduction_b}\n",
    "        for i in range(3):\n",
    "            with tf.variable_scope('inception_c_'+str(i)):\n",
    "                _inception_c[i] = inception_c(_inception_c[i-1])\n",
    "        \n",
    "        pool = tf.nn.max_pool(_inception_c[2], [1, 4, 1, 1], [1, 3, 1, 1], padding='VALID', name='pool')\n",
    "        pool_f = tf.reshape(pool, [-1, 1536])\n",
    "        pool_drop = tf.nn.dropout(pool_f, self.keep_prob)\n",
    "        self.fc = dense(pool_drop, 'fc', 1)\n",
    "        self.y_hat=dense1(tf.reshape(self.fc,[1,-1]),'fc',1)\n",
    "        #self.y_hat = tf.nn.softmax(self.fc, axis = 0, name='y_hat')\n",
    "        #print(\"softmax\")\n",
    "        #print(self.y_hat.shape)\n",
    "        # Creates a saver object exclusively for the forward propagation subgraph\n",
    "        model_variables = tf.get_collection_ref('tf.GraphKeys.MODEL_VARIABLES')\n",
    "        self.model_saver = tf.train.Saver(model_variables)\n",
    "        return\n",
    " \n",
    " \n",
    "    def train(self, data_generator, batch_size=1, epochs=4000, keep_prob=0.8): \n",
    "        self.cross_entropy = tf.nn.softmax_cross_entropy_with_logits(labels=self.y, logits=self.fc)\n",
    "        self.train_step = tf.train.AdamOptimizer(1e-4).minimize(self.cross_entropy)\n",
    " \n",
    "        self.correct_prediction = tf.equal(tf.argmax(self.y_hat, 1), tf.argmax(self.y, 1))\n",
    "        self.accuracy = tf.reduce_mean(tf.cast(self.correct_prediction, tf.float32))\n",
    "        # Creates a saver object to generate checkpoints during training. This one also saves\n",
    "        # the gradients and the increment of the Adam Optimizer\n",
    "        self.saver = tf.train.Saver()\n",
    "        with tf.Session() as sess:\n",
    "            writer = tf.summary.FileWriter(\"logs/\", sess.graph) # graph\n",
    "\n",
    "            sess.run(tf.global_variables_initializer())\n",
    "            for i in range(epochs):\n",
    "                images, labels = data_generator.get_batch(batch_size)\n",
    "                train_accuracy = self.accuracy.eval(feed_dict={self.X: np.array(images).reshape(-1,n,7,1), self.y: np.array(labels).reshape(-1,1), self.keep_prob: keep_prob})\n",
    "                print('step %d, training accuracy %g' % (i, train_accuracy))\n",
    "                # break down\n",
    "                self.train_step.run(feed_dict={self.X: images,\n",
    "                                               self.y: labels,\n",
    "                                               self.keep_prob: keep_prob}) \n",
    "        return\n",
    " \n",
    " \n",
    "    def classify(self, image):\n",
    "        with tf.Session() as sess:\n",
    "            self.model_saver.restore(sess, self.model_path)\n",
    " \n",
    "            y = self.y_hat.eval(feed_dict={self.X: image, self.keep_prob: 1.0})\n",
    " \n",
    "        return y\n",
    "\n",
    "def stem(tensor):\n",
    "    conv_1     = conv(tensor,     'conv_1',     [3, 1, 1, 32],   [1, 2, 1, 1], padding='VALID') \n",
    "    conv_2     = conv(conv_1,     'conv_2',     [3, 1, 32, 32],  [1, 2, 1, 1], padding='VALID')\n",
    "    conv_3     = conv(conv_2,     'conv_3',     [3, 1, 32, 64],  [1, 2, 1, 1])\n",
    "    conv_4_1   = conv(conv_3,     'conv_4_1',   [3, 1, 64, 64],  [1, 2, 1, 1], padding='VALID')\n",
    "    conv_4_2   = conv(conv_3,     'conv_4_2',   [3, 1, 64, 96],  [1, 2, 1, 1], padding='VALID')\n",
    "    concat_1   = tf.concat([conv_4_1, conv_4_2], axis=3, name='concat_1')\n",
    "    conv_5_1_1 = conv(concat_1,   'conv_5_1_1', [1, 1, 160, 64], [1, 1, 1, 1])\n",
    "    conv_5_1_2 = conv(conv_5_1_1, 'conv_5_1_2', [3, 1, 64, 96],  [1, 2, 1, 1], padding='VALID')\n",
    "    conv_5_2_1 = conv(concat_1,   'conv_5_2_1', [1, 1, 160, 64], [1, 1, 1, 1])\n",
    "    #conv_5_2_2 = conv(conv_5_2_1, 'conv_5_2_2', [7, 1, 64, 64],  [1, 1, 1, 1])\n",
    "    #conv_5_2_3 = conv(conv_5_2_2, 'conv_5_2_3', [1, 7, 64, 64],  [1, 1, 1, 1])\n",
    "    conv_5_2_3 = conv(conv_5_2_1, 'conv_5_2_3', [1, 5, 64, 64],  [1, 1, 1, 1])\n",
    "    conv_5_2_4 = conv(conv_5_2_3, 'conv_5_2_4', [3, 1, 64, 96],  [1, 2, 1, 1], padding='VALID')\n",
    "    concat_2   = tf.concat([conv_5_1_2, conv_5_2_4], axis=3, name='concat_2')\n",
    "    conv_6_1   = conv(concat_2,   'conv_6_1_1', [3, 1, 192, 192],  [1, 2, 1, 1], padding='VALID')\n",
    "    pool_6_2   = tf.nn.max_pool(concat_2, [1, 3, 1, 1], [1, 2, 1, 1], padding='VALID', name='pool_6_2')\n",
    "    concat_3   = tf.concat([conv_6_1, pool_6_2], axis=3, name='concat_3')\n",
    "    return concat_3\n",
    "\n",
    "def inception_a(tensor):\n",
    "    pool_1_1 = tf.nn.avg_pool(tensor, [1, 3, 3, 1], [1, 1, 1, 1], padding='SAME', name='pool_1_1')\n",
    "    conv_1_1 = conv(pool_1_1, 'conv_1_1', [1, 1, 384, 96], [1, 1, 1, 1])\n",
    "    conv_2_1 = conv(tensor,   'conv_2_1', [1, 1, 384, 96], [1, 1, 1, 1])\n",
    "    conv_3_1 = conv(tensor,   'conv_3_1', [1, 1, 384, 64], [1, 1, 1, 1])\n",
    "    conv_3_2 = conv(conv_3_1, 'conv_3_2', [3, 1, 64, 96],  [1, 1, 1, 1])\n",
    "    conv_4_1 = conv(tensor,   'conv_4_1', [1, 1, 384, 64], [1, 1, 1, 1])\n",
    "    conv_4_2 = conv(conv_4_1, 'conv_4_2', [3, 1, 64, 96],  [1, 1, 1, 1])\n",
    "    conv_4_3 = conv(conv_4_2, 'conv_4_3', [3, 1, 96, 96],  [1, 1, 1, 1])\n",
    "    concat = tf.concat([conv_1_1, conv_2_1, conv_3_2, conv_4_3], axis=3, name='concat')\n",
    "    return concat\n",
    "def reduction_a(tensor):\n",
    "    pool_1_1 = tf.nn.max_pool(tensor, [1, 3, 1, 1], [1, 3, 1, 1], padding='VALID', name='pool_1_1')\n",
    "    conv_2_1 = conv(tensor,   'conv_2_1', [3, 1, 384, 384], [1, 3, 1, 1], padding='VALID')\n",
    "    conv_3_1 = conv(tensor,   'conv_3_1', [1, 1, 384, 192], [1, 1, 1, 1])\n",
    "    conv_3_2 = conv(conv_3_1, 'conv_3_2', [3, 1, 192, 224], [1, 1, 1, 1])\n",
    "    conv_3_3 = conv(conv_3_2, 'conv_3_3', [3, 1, 224, 256], [1, 3, 1, 1], padding='VALID')\n",
    "    concat = tf.concat([pool_1_1, conv_2_1, conv_3_3], axis=3, name='concat')\n",
    "    return concat\n",
    "def inception_b(tensor):\n",
    "    pool_1_1 = tf.nn.avg_pool(tensor, [1, 3, 3, 1], [1, 1, 1, 1], padding='SAME', name='pool_1_1')\n",
    "    conv_1_2 = conv(pool_1_1, 'conv_1_2', [1, 1, 1024, 128], [1, 1, 1, 1],)\n",
    "    conv_2_1 = conv(tensor,   'conv_2_1', [1, 1, 1024, 384], [1, 1, 1, 1])\n",
    "    conv_3_1 = conv(tensor,   'conv_3_1', [1, 1, 1024, 192], [1, 1, 1, 1])\n",
    "    conv_3_2 = conv(conv_3_1, 'conv_3_2', [1, 3, 192, 224],  [1, 1, 1, 1])\n",
    "    conv_3_3 = conv(conv_3_2, 'conv_3_3', [1, 3, 224, 256],  [1, 1, 1, 1])\n",
    "    conv_4_1 = conv(tensor,   'conv_4_1', [1, 1, 1024, 192], [1, 1, 1, 1])\n",
    "    conv_4_2 = conv(conv_4_1, 'conv_4_2', [1, 5, 192, 192],  [1, 1, 1, 1])\n",
    "    conv_4_3 = conv(conv_4_2, 'conv_4_3', [5, 1, 192, 224],  [1, 1, 1, 1])\n",
    "    conv_4_4 = conv(conv_4_3, 'conv_4_4', [1, 5, 224, 224],  [1, 1, 1, 1])\n",
    "    conv_4_5 = conv(conv_4_4, 'conv_4_5', [5, 1, 224, 256],  [1, 1, 1, 1])\n",
    "    concat = tf.concat([conv_1_2, conv_2_1, conv_3_3, conv_4_5], axis=3, name='concat')\n",
    "    return concat\n",
    "def reduction_b(tensor):\n",
    "    pool_1_1 = tf.nn.max_pool(tensor, [1, 3, 1, 1], [1, 3, 1, 1], padding='VALID', name='pool_1_1')\n",
    "    conv_2_1 = conv(tensor,   'conv_2_1', [1, 1, 1024, 192], [1, 1, 1, 1])\n",
    "    conv_2_2 = conv(conv_2_1, 'conv_2_2', [3, 1, 192, 192],  [1, 3, 1, 1], padding='VALID')\n",
    "    conv_3_1 = conv(tensor,   'conv_3_1', [1, 1, 1024, 256], [1, 1, 1, 1])\n",
    "    conv_3_2 = conv(conv_3_1, 'conv_3_2', [1, 5, 256, 256],  [1, 1, 1, 1])\n",
    "    conv_3_3 = conv(conv_3_2, 'conv_3_3', [5, 1, 256, 320],  [1, 1, 1, 1])\n",
    "    conv_3_4 = conv(conv_3_3, 'conv_3_4', [3, 1, 320, 320],  [1, 3, 1, 1], padding='VALID')\n",
    "    concat = tf.concat([pool_1_1, conv_2_2, conv_3_4], axis=3, name='concat')\n",
    "    return concat\n",
    "def inception_c(tensor):\n",
    "    pool_1_1   = tf.nn.avg_pool(tensor, [1, 3, 3, 1], [1, 1, 1, 1], padding='SAME', name='pool_1_1')\n",
    "    conv_1_2   = conv(pool_1_1, 'conv_1_2',   [1, 1, 1536, 256], [1, 1, 1, 1])\n",
    "    conv_2_1   = conv(tensor,   'conv_2_1',   [1, 1, 1536, 256], [1, 1, 1, 1])\n",
    "    conv_3_1   = conv(tensor,   'conv_3_1',   [1, 1, 1536, 384], [1, 1, 1, 1])\n",
    "    conv_3_2_1 = conv(conv_3_1, 'conv_3_2_1', [1, 3, 384, 256],  [1, 1, 1, 1])\n",
    "    conv_3_2_2 = conv(conv_3_1, 'conv_3_2_2', [3, 1, 384, 256],  [1, 1, 1, 1])\n",
    "    conv_4_1   = conv(tensor,   'conv_4_1',   [1, 1, 1536, 384], [1, 1, 1, 1])\n",
    "    conv_4_2   = conv(conv_4_1, 'conv_4_2',   [1, 3, 384, 448],  [1, 1, 1, 1])\n",
    "    conv_4_3   = conv(conv_4_2, 'conv_4_3',   [3, 1, 448, 512],  [1, 1, 1, 1])\n",
    "    conv_4_3_1 = conv(conv_4_3, 'conv_4_3_1', [1, 3, 512, 256],  [1, 1, 1, 1])\n",
    "    conv_4_3_2 = conv(conv_4_3, 'conv_4_3_2', [3, 1, 512, 256],  [1, 1, 1, 1])\n",
    "    concat = tf.concat([conv_1_2, conv_2_1, conv_3_2_1, conv_3_2_2, conv_4_3_1, conv_4_3_2], axis=3, name='concat')\n",
    "    return concat\n",
    "\n",
    "def conv(tensor, name, shape, strides=[1, 1, 1, 1], padding='SAME', activation=tf.nn.relu):\n",
    "    W = tf.get_variable(name+\"_W\", shape)\n",
    "    b = tf.get_variable(name+\"_b\", shape[-1])\n",
    "    tf.add_to_collection('tf.GraphKeys.MODEL_VARIABLES', W)\n",
    "    tf.add_to_collection('tf.GraphKeys.MODEL_VARIABLES', b)\n",
    "    z = tf.nn.conv2d(tensor, W, strides=strides, padding=padding, name=name+'_z')\n",
    "    h = tf.add(z, b, name=name+'_h')\n",
    "    a = activation(h, name=name+'_a') \n",
    "    return a\n",
    "def dense(tensor, name, num_out):\n",
    "    W_fc = tf.get_variable('W_fc', [tensor.shape[1], num_out])\n",
    "    b_fc = tf.get_variable('b_fc', [num_out])\n",
    "    tf.add_to_collection('tf.GraphKeys.MODEL_VARIABLES', W_fc)\n",
    "    tf.add_to_collection('tf.GraphKeys.MODEL_VARIABLES', b_fc)\n",
    "    z_fc = tf.matmul(tensor, W_fc, name='z_fc')\n",
    "    h_fc = tf.add(z_fc, b_fc, name='h_fc')\n",
    "    return h_fc\n",
    "def dense1(tensor, name, num_out):\n",
    "    W_fc = tf.get_variable('W_fc1', [tensor.shape[1], num_out])\n",
    "    b_fc = tf.get_variable('b_fc1', [num_out])\n",
    "    tf.add_to_collection('tf.GraphKeys.MODEL_VARIABLES', W_fc)\n",
    "    tf.add_to_collection('tf.GraphKeys.MODEL_VARIABLES', b_fc)\n",
    "    z_fc = tf.matmul(tensor, W_fc, name='z_fc1')\n",
    "    h_fc = tf.add(z_fc, b_fc, name='h_fc1') \n",
    "    return h_fc"
   ]
  },
  {
   "cell_type": "code",
   "execution_count": null,
   "metadata": {},
   "outputs": [
    {
     "name": "stdout",
     "output_type": "stream",
     "text": [
      "stem\n",
      "(?, 1349, 7, 384)\n",
      "inception_a\n",
      "(?, 1349, 7, 384)\n",
      "inception_a\n",
      "(?, 1349, 7, 384)\n",
      "inception_a\n",
      "(?, 1349, 7, 384)\n",
      "inception_a\n",
      "(?, 1349, 7, 384)\n",
      "reduction_a\n",
      "(?, 449, 7, 1024)\n",
      "inception_b\n",
      "(1, 223, 7, 1024)\n",
      "inception_b\n",
      "(1, 223, 7, 1024)\n",
      "inception_b\n",
      "(1, 223, 7, 1024)\n",
      "inception_b\n",
      "(1, 223, 7, 1024)\n",
      "inception_b\n",
      "(1, 223, 7, 1024)\n",
      "inception_b\n",
      "(1, 223, 7, 1024)\n",
      "inception_b\n",
      "(1, 223, 7, 1024)\n",
      "reduction_b\n",
      "(1, 74, 7, 1536)\n",
      "inception_c\n",
      "(1, 74, 7, 1536)\n",
      "inception_c\n",
      "(1, 74, 7, 1536)\n",
      "inception_c\n",
      "(1, 74, 7, 1536)\n",
      "max_pool\n",
      "(168, 1536)\n",
      "dropout\n",
      "(168, 1536)\n",
      "dense1\n",
      "(168, 1)\n",
      "dense2\n",
      "(1, 1)\n",
      "defined\n",
      "WARNING:tensorflow:From <ipython-input-12-28cb514ab8fb>:120: softmax_cross_entropy_with_logits (from tensorflow.python.ops.nn_ops) is deprecated and will be removed in a future version.\n",
      "Instructions for updating:\n",
      "\n",
      "Future major versions of TensorFlow will allow gradients to flow\n",
      "into the labels input on backprop by default.\n",
      "\n",
      "See `tf.nn.softmax_cross_entropy_with_logits_v2`.\n",
      "\n",
      "step 0, training accuracy 1\n"
     ]
    }
   ],
   "source": [
    "main()"
   ]
  },
  {
   "cell_type": "code",
   "execution_count": 1,
   "metadata": {},
   "outputs": [
    {
     "data": {
      "text/plain": [
       "True"
      ]
     },
     "execution_count": 1,
     "metadata": {},
     "output_type": "execute_result"
    }
   ],
   "source": [
    "import tensorflow as tf\n",
    "tf.test.is_gpu_available()"
   ]
  },
  {
   "cell_type": "code",
   "execution_count": 2,
   "metadata": {},
   "outputs": [
    {
     "data": {
      "text/plain": [
       "True"
      ]
     },
     "execution_count": 2,
     "metadata": {},
     "output_type": "execute_result"
    }
   ],
   "source": [
    "tf.test.is_built_with_cuda()"
   ]
  },
  {
   "cell_type": "code",
   "execution_count": 36,
   "metadata": {},
   "outputs": [],
   "source": [
    "del tf"
   ]
  },
  {
   "cell_type": "code",
   "execution_count": 37,
   "metadata": {},
   "outputs": [],
   "source": [
    "import tensorflow as tf"
   ]
  },
  {
   "cell_type": "code",
   "execution_count": 38,
   "metadata": {},
   "outputs": [
    {
     "data": {
      "text/plain": [
       "'/anaconda3/lib/python3.6/site-packages/tensorflow/__init__.py'"
      ]
     },
     "execution_count": 38,
     "metadata": {},
     "output_type": "execute_result"
    }
   ],
   "source": [
    "tensorflow.__file__"
   ]
  },
  {
   "cell_type": "code",
   "execution_count": 34,
   "metadata": {},
   "outputs": [],
   "source": [
    "import sys"
   ]
  },
  {
   "cell_type": "code",
   "execution_count": 35,
   "metadata": {},
   "outputs": [
    {
     "data": {
      "text/plain": [
       "['',\n",
       " '/anaconda3/lib/python36.zip',\n",
       " '/anaconda3/lib/python3.6',\n",
       " '/anaconda3/lib/python3.6/lib-dynload',\n",
       " '/anaconda3/lib/python3.6/site-packages',\n",
       " '/anaconda3/lib/python3.6/site-packages/IPython/extensions',\n",
       " '/home/felixyan29_gmail_com/.ipython']"
      ]
     },
     "execution_count": 35,
     "metadata": {},
     "output_type": "execute_result"
    }
   ],
   "source": [
    "sys.path"
   ]
  },
  {
   "cell_type": "code",
   "execution_count": null,
   "metadata": {},
   "outputs": [],
   "source": []
  }
 ],
 "metadata": {
  "kernelspec": {
   "display_name": "Python 3",
   "language": "python",
   "name": "python3"
  },
  "language_info": {
   "codemirror_mode": {
    "name": "ipython",
    "version": 3
   },
   "file_extension": ".py",
   "mimetype": "text/x-python",
   "name": "python",
   "nbconvert_exporter": "python",
   "pygments_lexer": "ipython3",
   "version": "3.6.0"
  }
 },
 "nbformat": 4,
 "nbformat_minor": 2
}
